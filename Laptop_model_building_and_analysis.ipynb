{
 "cells": [
  {
   "cell_type": "code",
   "execution_count": 1,
   "id": "6a395d49",
   "metadata": {},
   "outputs": [],
   "source": [
    "import numpy as np\n",
    "import pandas as pd\n",
    "import seaborn as sns\n",
    "import matplotlib.pyplot as plt\n",
    "import re"
   ]
  },
  {
   "cell_type": "code",
   "execution_count": 2,
   "id": "9999b7c7",
   "metadata": {},
   "outputs": [],
   "source": [
    "df = pd.read_csv(r\"C:\\Users\\bhask\\Desktop\\DATA SCIENCE AND ANALYTICS\\Internship_Inno\\DATA_ANALYSIS_EDA\\laptop_details.csv\")"
   ]
  },
  {
   "cell_type": "code",
   "execution_count": 3,
   "id": "dfea6110",
   "metadata": {},
   "outputs": [
    {
     "data": {
      "text/html": [
       "<div>\n",
       "<style scoped>\n",
       "    .dataframe tbody tr th:only-of-type {\n",
       "        vertical-align: middle;\n",
       "    }\n",
       "\n",
       "    .dataframe tbody tr th {\n",
       "        vertical-align: top;\n",
       "    }\n",
       "\n",
       "    .dataframe thead th {\n",
       "        text-align: right;\n",
       "    }\n",
       "</style>\n",
       "<table border=\"1\" class=\"dataframe\">\n",
       "  <thead>\n",
       "    <tr style=\"text-align: right;\">\n",
       "      <th></th>\n",
       "      <th>Product</th>\n",
       "      <th>Rating</th>\n",
       "      <th>MRP</th>\n",
       "      <th>Feature</th>\n",
       "    </tr>\n",
       "  </thead>\n",
       "  <tbody>\n",
       "    <tr>\n",
       "      <th>0</th>\n",
       "      <td>Lenovo IdeaPad 3 Core i3 11th Gen - (8 GB/256 ...</td>\n",
       "      <td>4.2</td>\n",
       "      <td>₹36,990</td>\n",
       "      <td>Intel Core i3 Processor (11th Gen)8 GB DDR4 RA...</td>\n",
       "    </tr>\n",
       "    <tr>\n",
       "      <th>1</th>\n",
       "      <td>Lenovo IdeaPad 3 Core i3 11th Gen - (8 GB/512 ...</td>\n",
       "      <td>4.2</td>\n",
       "      <td>₹39,990</td>\n",
       "      <td>Intel Core i3 Processor (11th Gen)8 GB DDR4 RA...</td>\n",
       "    </tr>\n",
       "    <tr>\n",
       "      <th>2</th>\n",
       "      <td>ASUS VivoBook 15 (2022) Core i3 10th Gen - (8 ...</td>\n",
       "      <td>4.3</td>\n",
       "      <td>₹32,990</td>\n",
       "      <td>Intel Core i3 Processor (10th Gen)8 GB DDR4 RA...</td>\n",
       "    </tr>\n",
       "    <tr>\n",
       "      <th>3</th>\n",
       "      <td>HP Pavilion Ryzen 5 Hexa Core AMD R5-5600H - (...</td>\n",
       "      <td>4.4</td>\n",
       "      <td>₹49,990</td>\n",
       "      <td>AMD Ryzen 5 Hexa Core Processor8 GB DDR4 RAM64...</td>\n",
       "    </tr>\n",
       "    <tr>\n",
       "      <th>4</th>\n",
       "      <td>ASUS TUF Gaming F15 Core i5 10th Gen - (8 GB/5...</td>\n",
       "      <td>4.4</td>\n",
       "      <td>₹49,990</td>\n",
       "      <td>Intel Core i5 Processor (10th Gen)8 GB DDR4 RA...</td>\n",
       "    </tr>\n",
       "  </tbody>\n",
       "</table>\n",
       "</div>"
      ],
      "text/plain": [
       "                                             Product  Rating      MRP  \\\n",
       "0  Lenovo IdeaPad 3 Core i3 11th Gen - (8 GB/256 ...     4.2  ₹36,990   \n",
       "1  Lenovo IdeaPad 3 Core i3 11th Gen - (8 GB/512 ...     4.2  ₹39,990   \n",
       "2  ASUS VivoBook 15 (2022) Core i3 10th Gen - (8 ...     4.3  ₹32,990   \n",
       "3  HP Pavilion Ryzen 5 Hexa Core AMD R5-5600H - (...     4.4  ₹49,990   \n",
       "4  ASUS TUF Gaming F15 Core i5 10th Gen - (8 GB/5...     4.4  ₹49,990   \n",
       "\n",
       "                                             Feature  \n",
       "0  Intel Core i3 Processor (11th Gen)8 GB DDR4 RA...  \n",
       "1  Intel Core i3 Processor (11th Gen)8 GB DDR4 RA...  \n",
       "2  Intel Core i3 Processor (10th Gen)8 GB DDR4 RA...  \n",
       "3  AMD Ryzen 5 Hexa Core Processor8 GB DDR4 RAM64...  \n",
       "4  Intel Core i5 Processor (10th Gen)8 GB DDR4 RA...  "
      ]
     },
     "execution_count": 3,
     "metadata": {},
     "output_type": "execute_result"
    }
   ],
   "source": [
    "df.head()"
   ]
  },
  {
   "cell_type": "code",
   "execution_count": 4,
   "id": "a4bbd5da",
   "metadata": {},
   "outputs": [
    {
     "data": {
      "text/html": [
       "<div>\n",
       "<style scoped>\n",
       "    .dataframe tbody tr th:only-of-type {\n",
       "        vertical-align: middle;\n",
       "    }\n",
       "\n",
       "    .dataframe tbody tr th {\n",
       "        vertical-align: top;\n",
       "    }\n",
       "\n",
       "    .dataframe thead th {\n",
       "        text-align: right;\n",
       "    }\n",
       "</style>\n",
       "<table border=\"1\" class=\"dataframe\">\n",
       "  <thead>\n",
       "    <tr style=\"text-align: right;\">\n",
       "      <th></th>\n",
       "      <th>Rating</th>\n",
       "    </tr>\n",
       "  </thead>\n",
       "  <tbody>\n",
       "    <tr>\n",
       "      <th>count</th>\n",
       "      <td>581.000000</td>\n",
       "    </tr>\n",
       "    <tr>\n",
       "      <th>mean</th>\n",
       "      <td>4.321170</td>\n",
       "    </tr>\n",
       "    <tr>\n",
       "      <th>std</th>\n",
       "      <td>0.282872</td>\n",
       "    </tr>\n",
       "    <tr>\n",
       "      <th>min</th>\n",
       "      <td>3.000000</td>\n",
       "    </tr>\n",
       "    <tr>\n",
       "      <th>25%</th>\n",
       "      <td>4.200000</td>\n",
       "    </tr>\n",
       "    <tr>\n",
       "      <th>50%</th>\n",
       "      <td>4.300000</td>\n",
       "    </tr>\n",
       "    <tr>\n",
       "      <th>75%</th>\n",
       "      <td>4.500000</td>\n",
       "    </tr>\n",
       "    <tr>\n",
       "      <th>max</th>\n",
       "      <td>5.000000</td>\n",
       "    </tr>\n",
       "  </tbody>\n",
       "</table>\n",
       "</div>"
      ],
      "text/plain": [
       "           Rating\n",
       "count  581.000000\n",
       "mean     4.321170\n",
       "std      0.282872\n",
       "min      3.000000\n",
       "25%      4.200000\n",
       "50%      4.300000\n",
       "75%      4.500000\n",
       "max      5.000000"
      ]
     },
     "execution_count": 4,
     "metadata": {},
     "output_type": "execute_result"
    }
   ],
   "source": [
    "df.describe()"
   ]
  },
  {
   "cell_type": "code",
   "execution_count": 5,
   "id": "9090ed55",
   "metadata": {},
   "outputs": [
    {
     "name": "stdout",
     "output_type": "stream",
     "text": [
      "<class 'pandas.core.frame.DataFrame'>\n",
      "RangeIndex: 720 entries, 0 to 719\n",
      "Data columns (total 4 columns):\n",
      " #   Column   Non-Null Count  Dtype  \n",
      "---  ------   --------------  -----  \n",
      " 0   Product  720 non-null    object \n",
      " 1   Rating   581 non-null    float64\n",
      " 2   MRP      720 non-null    object \n",
      " 3   Feature  720 non-null    object \n",
      "dtypes: float64(1), object(3)\n",
      "memory usage: 22.6+ KB\n"
     ]
    }
   ],
   "source": [
    "df.info()"
   ]
  },
  {
   "cell_type": "code",
   "execution_count": 6,
   "id": "d5b9d9cc",
   "metadata": {},
   "outputs": [
    {
     "data": {
      "text/plain": [
       "Product      0\n",
       "Rating     139\n",
       "MRP          0\n",
       "Feature      0\n",
       "dtype: int64"
      ]
     },
     "execution_count": 6,
     "metadata": {},
     "output_type": "execute_result"
    }
   ],
   "source": [
    "df.isnull().sum()"
   ]
  },
  {
   "cell_type": "code",
   "execution_count": 7,
   "id": "4b81ed3e",
   "metadata": {},
   "outputs": [],
   "source": [
    "df.drop('Rating', axis = 1, inplace = True\n",
    "       )"
   ]
  },
  {
   "cell_type": "code",
   "execution_count": 8,
   "id": "4ff13a37",
   "metadata": {},
   "outputs": [
    {
     "data": {
      "text/html": [
       "<div>\n",
       "<style scoped>\n",
       "    .dataframe tbody tr th:only-of-type {\n",
       "        vertical-align: middle;\n",
       "    }\n",
       "\n",
       "    .dataframe tbody tr th {\n",
       "        vertical-align: top;\n",
       "    }\n",
       "\n",
       "    .dataframe thead th {\n",
       "        text-align: right;\n",
       "    }\n",
       "</style>\n",
       "<table border=\"1\" class=\"dataframe\">\n",
       "  <thead>\n",
       "    <tr style=\"text-align: right;\">\n",
       "      <th></th>\n",
       "      <th>Product</th>\n",
       "      <th>MRP</th>\n",
       "      <th>Feature</th>\n",
       "    </tr>\n",
       "  </thead>\n",
       "  <tbody>\n",
       "    <tr>\n",
       "      <th>0</th>\n",
       "      <td>Lenovo IdeaPad 3 Core i3 11th Gen - (8 GB/256 ...</td>\n",
       "      <td>₹36,990</td>\n",
       "      <td>Intel Core i3 Processor (11th Gen)8 GB DDR4 RA...</td>\n",
       "    </tr>\n",
       "    <tr>\n",
       "      <th>1</th>\n",
       "      <td>Lenovo IdeaPad 3 Core i3 11th Gen - (8 GB/512 ...</td>\n",
       "      <td>₹39,990</td>\n",
       "      <td>Intel Core i3 Processor (11th Gen)8 GB DDR4 RA...</td>\n",
       "    </tr>\n",
       "    <tr>\n",
       "      <th>2</th>\n",
       "      <td>ASUS VivoBook 15 (2022) Core i3 10th Gen - (8 ...</td>\n",
       "      <td>₹32,990</td>\n",
       "      <td>Intel Core i3 Processor (10th Gen)8 GB DDR4 RA...</td>\n",
       "    </tr>\n",
       "    <tr>\n",
       "      <th>3</th>\n",
       "      <td>HP Pavilion Ryzen 5 Hexa Core AMD R5-5600H - (...</td>\n",
       "      <td>₹49,990</td>\n",
       "      <td>AMD Ryzen 5 Hexa Core Processor8 GB DDR4 RAM64...</td>\n",
       "    </tr>\n",
       "    <tr>\n",
       "      <th>4</th>\n",
       "      <td>ASUS TUF Gaming F15 Core i5 10th Gen - (8 GB/5...</td>\n",
       "      <td>₹49,990</td>\n",
       "      <td>Intel Core i5 Processor (10th Gen)8 GB DDR4 RA...</td>\n",
       "    </tr>\n",
       "  </tbody>\n",
       "</table>\n",
       "</div>"
      ],
      "text/plain": [
       "                                             Product      MRP  \\\n",
       "0  Lenovo IdeaPad 3 Core i3 11th Gen - (8 GB/256 ...  ₹36,990   \n",
       "1  Lenovo IdeaPad 3 Core i3 11th Gen - (8 GB/512 ...  ₹39,990   \n",
       "2  ASUS VivoBook 15 (2022) Core i3 10th Gen - (8 ...  ₹32,990   \n",
       "3  HP Pavilion Ryzen 5 Hexa Core AMD R5-5600H - (...  ₹49,990   \n",
       "4  ASUS TUF Gaming F15 Core i5 10th Gen - (8 GB/5...  ₹49,990   \n",
       "\n",
       "                                             Feature  \n",
       "0  Intel Core i3 Processor (11th Gen)8 GB DDR4 RA...  \n",
       "1  Intel Core i3 Processor (11th Gen)8 GB DDR4 RA...  \n",
       "2  Intel Core i3 Processor (10th Gen)8 GB DDR4 RA...  \n",
       "3  AMD Ryzen 5 Hexa Core Processor8 GB DDR4 RAM64...  \n",
       "4  Intel Core i5 Processor (10th Gen)8 GB DDR4 RA...  "
      ]
     },
     "execution_count": 8,
     "metadata": {},
     "output_type": "execute_result"
    }
   ],
   "source": [
    "df.head()"
   ]
  },
  {
   "cell_type": "code",
   "execution_count": 9,
   "id": "720d853a",
   "metadata": {},
   "outputs": [
    {
     "name": "stdout",
     "output_type": "stream",
     "text": [
      "<class 'pandas.core.frame.DataFrame'>\n",
      "RangeIndex: 720 entries, 0 to 719\n",
      "Data columns (total 3 columns):\n",
      " #   Column   Non-Null Count  Dtype \n",
      "---  ------   --------------  ----- \n",
      " 0   Product  720 non-null    object\n",
      " 1   MRP      720 non-null    object\n",
      " 2   Feature  720 non-null    object\n",
      "dtypes: object(3)\n",
      "memory usage: 17.0+ KB\n"
     ]
    }
   ],
   "source": [
    "df.info()"
   ]
  },
  {
   "cell_type": "markdown",
   "id": "ee17cfb0",
   "metadata": {},
   "source": [
    "### Data Cleaning and extraction of feature"
   ]
  },
  {
   "cell_type": "code",
   "execution_count": 10,
   "id": "639e1a1b",
   "metadata": {},
   "outputs": [],
   "source": [
    "df = df.drop_duplicates()"
   ]
  },
  {
   "cell_type": "code",
   "execution_count": 11,
   "id": "76b6c416",
   "metadata": {},
   "outputs": [
    {
     "data": {
      "text/plain": [
       "0"
      ]
     },
     "execution_count": 11,
     "metadata": {},
     "output_type": "execute_result"
    }
   ],
   "source": [
    "df.duplicated().sum()"
   ]
  },
  {
   "cell_type": "code",
   "execution_count": 12,
   "id": "4ba66da9",
   "metadata": {},
   "outputs": [],
   "source": [
    "df['MRP'] = df['MRP'].apply(lambda x : x.replace('₹', '').replace(',', '')).astype(float)"
   ]
  },
  {
   "cell_type": "code",
   "execution_count": 13,
   "id": "00c37bf4",
   "metadata": {},
   "outputs": [
    {
     "name": "stdout",
     "output_type": "stream",
     "text": [
      "<class 'pandas.core.frame.DataFrame'>\n",
      "Int64Index: 421 entries, 0 to 719\n",
      "Data columns (total 3 columns):\n",
      " #   Column   Non-Null Count  Dtype  \n",
      "---  ------   --------------  -----  \n",
      " 0   Product  421 non-null    object \n",
      " 1   MRP      421 non-null    float64\n",
      " 2   Feature  421 non-null    object \n",
      "dtypes: float64(1), object(2)\n",
      "memory usage: 13.2+ KB\n"
     ]
    }
   ],
   "source": [
    "df.info()"
   ]
  },
  {
   "cell_type": "code",
   "execution_count": null,
   "id": "6f020226",
   "metadata": {},
   "outputs": [],
   "source": []
  },
  {
   "cell_type": "code",
   "execution_count": 14,
   "id": "462fa03a",
   "metadata": {},
   "outputs": [
    {
     "data": {
      "text/html": [
       "<div>\n",
       "<style scoped>\n",
       "    .dataframe tbody tr th:only-of-type {\n",
       "        vertical-align: middle;\n",
       "    }\n",
       "\n",
       "    .dataframe tbody tr th {\n",
       "        vertical-align: top;\n",
       "    }\n",
       "\n",
       "    .dataframe thead th {\n",
       "        text-align: right;\n",
       "    }\n",
       "</style>\n",
       "<table border=\"1\" class=\"dataframe\">\n",
       "  <thead>\n",
       "    <tr style=\"text-align: right;\">\n",
       "      <th></th>\n",
       "      <th>Product</th>\n",
       "      <th>MRP</th>\n",
       "      <th>Feature</th>\n",
       "      <th>Brand_name</th>\n",
       "    </tr>\n",
       "  </thead>\n",
       "  <tbody>\n",
       "    <tr>\n",
       "      <th>0</th>\n",
       "      <td>Lenovo IdeaPad 3 Core i3 11th Gen - (8 GB/256 ...</td>\n",
       "      <td>36990.0</td>\n",
       "      <td>Intel Core i3 Processor (11th Gen)8 GB DDR4 RA...</td>\n",
       "      <td>Lenovo</td>\n",
       "    </tr>\n",
       "    <tr>\n",
       "      <th>1</th>\n",
       "      <td>Lenovo IdeaPad 3 Core i3 11th Gen - (8 GB/512 ...</td>\n",
       "      <td>39990.0</td>\n",
       "      <td>Intel Core i3 Processor (11th Gen)8 GB DDR4 RA...</td>\n",
       "      <td>Lenovo</td>\n",
       "    </tr>\n",
       "    <tr>\n",
       "      <th>2</th>\n",
       "      <td>ASUS VivoBook 15 (2022) Core i3 10th Gen - (8 ...</td>\n",
       "      <td>32990.0</td>\n",
       "      <td>Intel Core i3 Processor (10th Gen)8 GB DDR4 RA...</td>\n",
       "      <td>ASUS</td>\n",
       "    </tr>\n",
       "    <tr>\n",
       "      <th>3</th>\n",
       "      <td>HP Pavilion Ryzen 5 Hexa Core AMD R5-5600H - (...</td>\n",
       "      <td>49990.0</td>\n",
       "      <td>AMD Ryzen 5 Hexa Core Processor8 GB DDR4 RAM64...</td>\n",
       "      <td>HP</td>\n",
       "    </tr>\n",
       "    <tr>\n",
       "      <th>4</th>\n",
       "      <td>ASUS TUF Gaming F15 Core i5 10th Gen - (8 GB/5...</td>\n",
       "      <td>49990.0</td>\n",
       "      <td>Intel Core i5 Processor (10th Gen)8 GB DDR4 RA...</td>\n",
       "      <td>ASUS</td>\n",
       "    </tr>\n",
       "  </tbody>\n",
       "</table>\n",
       "</div>"
      ],
      "text/plain": [
       "                                             Product      MRP  \\\n",
       "0  Lenovo IdeaPad 3 Core i3 11th Gen - (8 GB/256 ...  36990.0   \n",
       "1  Lenovo IdeaPad 3 Core i3 11th Gen - (8 GB/512 ...  39990.0   \n",
       "2  ASUS VivoBook 15 (2022) Core i3 10th Gen - (8 ...  32990.0   \n",
       "3  HP Pavilion Ryzen 5 Hexa Core AMD R5-5600H - (...  49990.0   \n",
       "4  ASUS TUF Gaming F15 Core i5 10th Gen - (8 GB/5...  49990.0   \n",
       "\n",
       "                                             Feature Brand_name  \n",
       "0  Intel Core i3 Processor (11th Gen)8 GB DDR4 RA...     Lenovo  \n",
       "1  Intel Core i3 Processor (11th Gen)8 GB DDR4 RA...     Lenovo  \n",
       "2  Intel Core i3 Processor (10th Gen)8 GB DDR4 RA...       ASUS  \n",
       "3  AMD Ryzen 5 Hexa Core Processor8 GB DDR4 RAM64...         HP  \n",
       "4  Intel Core i5 Processor (10th Gen)8 GB DDR4 RA...       ASUS  "
      ]
     },
     "execution_count": 14,
     "metadata": {},
     "output_type": "execute_result"
    }
   ],
   "source": [
    "df[\"Brand_name\"] = df[\"Product\"].apply(lambda x: x.split(\" \")[0])\n",
    "df.head()"
   ]
  },
  {
   "cell_type": "code",
   "execution_count": 15,
   "id": "35f44419",
   "metadata": {},
   "outputs": [
    {
     "data": {
      "text/plain": [
       "array(['Lenovo', 'ASUS', 'HP', 'DELL', 'RedmiBook', 'realme', 'acer',\n",
       "       'MSI', 'APPLE', 'Infinix', 'SAMSUNG', 'Ultimus', 'Vaio',\n",
       "       'GIGABYTE', 'Nokia', 'ALIENWARE'], dtype=object)"
      ]
     },
     "execution_count": 15,
     "metadata": {},
     "output_type": "execute_result"
    }
   ],
   "source": [
    "df['Brand_name'].unique()"
   ]
  },
  {
   "cell_type": "code",
   "execution_count": 16,
   "id": "10e2facd",
   "metadata": {},
   "outputs": [],
   "source": [
    "re_ram_type = r'(DDR[0-9L]*|LPDDR[0-9X]*)'"
   ]
  },
  {
   "cell_type": "code",
   "execution_count": 17,
   "id": "513619d3",
   "metadata": {},
   "outputs": [],
   "source": [
    "#RAM_type\n",
    "def extract_ram_type(text):\n",
    "    match = re.search(re_ram_type, text, re.IGNORECASE)\n",
    "    if match:\n",
    "        return match.group(0)\n",
    "    else:\n",
    "        return None\n",
    "df['RAM_Type'] = df['Feature'].apply(extract_ram_type)"
   ]
  },
  {
   "cell_type": "code",
   "execution_count": 18,
   "id": "655e2da1",
   "metadata": {},
   "outputs": [],
   "source": [
    "#RAM_size\n",
    "df['RAM_Size'] = df['Feature'].apply(lambda x: int(re.findall(r'\\d+', x.split('DDR')[0])[-1]))"
   ]
  },
  {
   "cell_type": "code",
   "execution_count": 19,
   "id": "5fad4b8c",
   "metadata": {},
   "outputs": [
    {
     "data": {
      "text/html": [
       "<div>\n",
       "<style scoped>\n",
       "    .dataframe tbody tr th:only-of-type {\n",
       "        vertical-align: middle;\n",
       "    }\n",
       "\n",
       "    .dataframe tbody tr th {\n",
       "        vertical-align: top;\n",
       "    }\n",
       "\n",
       "    .dataframe thead th {\n",
       "        text-align: right;\n",
       "    }\n",
       "</style>\n",
       "<table border=\"1\" class=\"dataframe\">\n",
       "  <thead>\n",
       "    <tr style=\"text-align: right;\">\n",
       "      <th></th>\n",
       "      <th>Product</th>\n",
       "      <th>MRP</th>\n",
       "      <th>Feature</th>\n",
       "      <th>Brand_name</th>\n",
       "      <th>RAM_Type</th>\n",
       "      <th>RAM_Size</th>\n",
       "    </tr>\n",
       "  </thead>\n",
       "  <tbody>\n",
       "    <tr>\n",
       "      <th>0</th>\n",
       "      <td>Lenovo IdeaPad 3 Core i3 11th Gen - (8 GB/256 ...</td>\n",
       "      <td>36990.0</td>\n",
       "      <td>Intel Core i3 Processor (11th Gen)8 GB DDR4 RA...</td>\n",
       "      <td>Lenovo</td>\n",
       "      <td>DDR4</td>\n",
       "      <td>8</td>\n",
       "    </tr>\n",
       "    <tr>\n",
       "      <th>1</th>\n",
       "      <td>Lenovo IdeaPad 3 Core i3 11th Gen - (8 GB/512 ...</td>\n",
       "      <td>39990.0</td>\n",
       "      <td>Intel Core i3 Processor (11th Gen)8 GB DDR4 RA...</td>\n",
       "      <td>Lenovo</td>\n",
       "      <td>DDR4</td>\n",
       "      <td>8</td>\n",
       "    </tr>\n",
       "    <tr>\n",
       "      <th>2</th>\n",
       "      <td>ASUS VivoBook 15 (2022) Core i3 10th Gen - (8 ...</td>\n",
       "      <td>32990.0</td>\n",
       "      <td>Intel Core i3 Processor (10th Gen)8 GB DDR4 RA...</td>\n",
       "      <td>ASUS</td>\n",
       "      <td>DDR4</td>\n",
       "      <td>8</td>\n",
       "    </tr>\n",
       "    <tr>\n",
       "      <th>3</th>\n",
       "      <td>HP Pavilion Ryzen 5 Hexa Core AMD R5-5600H - (...</td>\n",
       "      <td>49990.0</td>\n",
       "      <td>AMD Ryzen 5 Hexa Core Processor8 GB DDR4 RAM64...</td>\n",
       "      <td>HP</td>\n",
       "      <td>DDR4</td>\n",
       "      <td>8</td>\n",
       "    </tr>\n",
       "    <tr>\n",
       "      <th>4</th>\n",
       "      <td>ASUS TUF Gaming F15 Core i5 10th Gen - (8 GB/5...</td>\n",
       "      <td>49990.0</td>\n",
       "      <td>Intel Core i5 Processor (10th Gen)8 GB DDR4 RA...</td>\n",
       "      <td>ASUS</td>\n",
       "      <td>DDR4</td>\n",
       "      <td>8</td>\n",
       "    </tr>\n",
       "  </tbody>\n",
       "</table>\n",
       "</div>"
      ],
      "text/plain": [
       "                                             Product      MRP  \\\n",
       "0  Lenovo IdeaPad 3 Core i3 11th Gen - (8 GB/256 ...  36990.0   \n",
       "1  Lenovo IdeaPad 3 Core i3 11th Gen - (8 GB/512 ...  39990.0   \n",
       "2  ASUS VivoBook 15 (2022) Core i3 10th Gen - (8 ...  32990.0   \n",
       "3  HP Pavilion Ryzen 5 Hexa Core AMD R5-5600H - (...  49990.0   \n",
       "4  ASUS TUF Gaming F15 Core i5 10th Gen - (8 GB/5...  49990.0   \n",
       "\n",
       "                                             Feature Brand_name RAM_Type  \\\n",
       "0  Intel Core i3 Processor (11th Gen)8 GB DDR4 RA...     Lenovo     DDR4   \n",
       "1  Intel Core i3 Processor (11th Gen)8 GB DDR4 RA...     Lenovo     DDR4   \n",
       "2  Intel Core i3 Processor (10th Gen)8 GB DDR4 RA...       ASUS     DDR4   \n",
       "3  AMD Ryzen 5 Hexa Core Processor8 GB DDR4 RAM64...         HP     DDR4   \n",
       "4  Intel Core i5 Processor (10th Gen)8 GB DDR4 RA...       ASUS     DDR4   \n",
       "\n",
       "   RAM_Size  \n",
       "0         8  \n",
       "1         8  \n",
       "2         8  \n",
       "3         8  \n",
       "4         8  "
      ]
     },
     "execution_count": 19,
     "metadata": {},
     "output_type": "execute_result"
    }
   ],
   "source": [
    "df.head()"
   ]
  },
  {
   "cell_type": "code",
   "execution_count": 20,
   "id": "8c26691b",
   "metadata": {},
   "outputs": [],
   "source": [
    "#Storage_size\n",
    "df[\"Storage_size\"] = df['Feature'].apply(lambda x: int(re.findall(r'\\d+', x.split('SSD')[0])[-1]))"
   ]
  },
  {
   "cell_type": "code",
   "execution_count": 21,
   "id": "b5e306a0",
   "metadata": {},
   "outputs": [],
   "source": [
    "#Storage_type\n",
    "df[\"Storage_type\"] = df['Product'].apply(lambda x: \"HDD\" if 'HDD'in x else \"SSD\")"
   ]
  },
  {
   "cell_type": "code",
   "execution_count": 22,
   "id": "f02642e1",
   "metadata": {},
   "outputs": [],
   "source": [
    "#Operating_SYstem_type\n",
    "df['OS_Type'] = df['Feature'].apply(lambda x: 'Windows' if 'Windows' in x else'Mac OS' if 'Mac OS' in x else 'Others')"
   ]
  },
  {
   "cell_type": "code",
   "execution_count": 23,
   "id": "2ac4ec90",
   "metadata": {},
   "outputs": [
    {
     "data": {
      "text/html": [
       "<div>\n",
       "<style scoped>\n",
       "    .dataframe tbody tr th:only-of-type {\n",
       "        vertical-align: middle;\n",
       "    }\n",
       "\n",
       "    .dataframe tbody tr th {\n",
       "        vertical-align: top;\n",
       "    }\n",
       "\n",
       "    .dataframe thead th {\n",
       "        text-align: right;\n",
       "    }\n",
       "</style>\n",
       "<table border=\"1\" class=\"dataframe\">\n",
       "  <thead>\n",
       "    <tr style=\"text-align: right;\">\n",
       "      <th></th>\n",
       "      <th>Product</th>\n",
       "      <th>MRP</th>\n",
       "      <th>Feature</th>\n",
       "      <th>Brand_name</th>\n",
       "      <th>RAM_Type</th>\n",
       "      <th>RAM_Size</th>\n",
       "      <th>Storage_size</th>\n",
       "      <th>Storage_type</th>\n",
       "      <th>OS_Type</th>\n",
       "    </tr>\n",
       "  </thead>\n",
       "  <tbody>\n",
       "    <tr>\n",
       "      <th>0</th>\n",
       "      <td>Lenovo IdeaPad 3 Core i3 11th Gen - (8 GB/256 ...</td>\n",
       "      <td>36990.0</td>\n",
       "      <td>Intel Core i3 Processor (11th Gen)8 GB DDR4 RA...</td>\n",
       "      <td>Lenovo</td>\n",
       "      <td>DDR4</td>\n",
       "      <td>8</td>\n",
       "      <td>256</td>\n",
       "      <td>SSD</td>\n",
       "      <td>Windows</td>\n",
       "    </tr>\n",
       "    <tr>\n",
       "      <th>1</th>\n",
       "      <td>Lenovo IdeaPad 3 Core i3 11th Gen - (8 GB/512 ...</td>\n",
       "      <td>39990.0</td>\n",
       "      <td>Intel Core i3 Processor (11th Gen)8 GB DDR4 RA...</td>\n",
       "      <td>Lenovo</td>\n",
       "      <td>DDR4</td>\n",
       "      <td>8</td>\n",
       "      <td>512</td>\n",
       "      <td>SSD</td>\n",
       "      <td>Windows</td>\n",
       "    </tr>\n",
       "    <tr>\n",
       "      <th>2</th>\n",
       "      <td>ASUS VivoBook 15 (2022) Core i3 10th Gen - (8 ...</td>\n",
       "      <td>32990.0</td>\n",
       "      <td>Intel Core i3 Processor (10th Gen)8 GB DDR4 RA...</td>\n",
       "      <td>ASUS</td>\n",
       "      <td>DDR4</td>\n",
       "      <td>8</td>\n",
       "      <td>512</td>\n",
       "      <td>SSD</td>\n",
       "      <td>Windows</td>\n",
       "    </tr>\n",
       "    <tr>\n",
       "      <th>3</th>\n",
       "      <td>HP Pavilion Ryzen 5 Hexa Core AMD R5-5600H - (...</td>\n",
       "      <td>49990.0</td>\n",
       "      <td>AMD Ryzen 5 Hexa Core Processor8 GB DDR4 RAM64...</td>\n",
       "      <td>HP</td>\n",
       "      <td>DDR4</td>\n",
       "      <td>8</td>\n",
       "      <td>512</td>\n",
       "      <td>SSD</td>\n",
       "      <td>Windows</td>\n",
       "    </tr>\n",
       "    <tr>\n",
       "      <th>4</th>\n",
       "      <td>ASUS TUF Gaming F15 Core i5 10th Gen - (8 GB/5...</td>\n",
       "      <td>49990.0</td>\n",
       "      <td>Intel Core i5 Processor (10th Gen)8 GB DDR4 RA...</td>\n",
       "      <td>ASUS</td>\n",
       "      <td>DDR4</td>\n",
       "      <td>8</td>\n",
       "      <td>512</td>\n",
       "      <td>SSD</td>\n",
       "      <td>Windows</td>\n",
       "    </tr>\n",
       "  </tbody>\n",
       "</table>\n",
       "</div>"
      ],
      "text/plain": [
       "                                             Product      MRP  \\\n",
       "0  Lenovo IdeaPad 3 Core i3 11th Gen - (8 GB/256 ...  36990.0   \n",
       "1  Lenovo IdeaPad 3 Core i3 11th Gen - (8 GB/512 ...  39990.0   \n",
       "2  ASUS VivoBook 15 (2022) Core i3 10th Gen - (8 ...  32990.0   \n",
       "3  HP Pavilion Ryzen 5 Hexa Core AMD R5-5600H - (...  49990.0   \n",
       "4  ASUS TUF Gaming F15 Core i5 10th Gen - (8 GB/5...  49990.0   \n",
       "\n",
       "                                             Feature Brand_name RAM_Type  \\\n",
       "0  Intel Core i3 Processor (11th Gen)8 GB DDR4 RA...     Lenovo     DDR4   \n",
       "1  Intel Core i3 Processor (11th Gen)8 GB DDR4 RA...     Lenovo     DDR4   \n",
       "2  Intel Core i3 Processor (10th Gen)8 GB DDR4 RA...       ASUS     DDR4   \n",
       "3  AMD Ryzen 5 Hexa Core Processor8 GB DDR4 RAM64...         HP     DDR4   \n",
       "4  Intel Core i5 Processor (10th Gen)8 GB DDR4 RA...       ASUS     DDR4   \n",
       "\n",
       "   RAM_Size  Storage_size Storage_type  OS_Type  \n",
       "0         8           256          SSD  Windows  \n",
       "1         8           512          SSD  Windows  \n",
       "2         8           512          SSD  Windows  \n",
       "3         8           512          SSD  Windows  \n",
       "4         8           512          SSD  Windows  "
      ]
     },
     "execution_count": 23,
     "metadata": {},
     "output_type": "execute_result"
    }
   ],
   "source": [
    "df.head()"
   ]
  },
  {
   "cell_type": "code",
   "execution_count": 24,
   "id": "f94578ba",
   "metadata": {},
   "outputs": [],
   "source": [
    "#Processor_type\n",
    "reg= r'^(?:AMD|Intel|M1|Apple)[\\s\\w]+Processor'\n",
    "df['Processor Type']=df['Feature'].apply(lambda x : re.findall(reg, x))\n",
    "df['Processor Type']=df['Processor Type'].apply(lambda x : ''.join(x))\n",
    "df['Processor Type']=df['Processor Type'].apply(lambda x: x.replace(\" Processor\", \"\"))"
   ]
  },
  {
   "cell_type": "code",
   "execution_count": 25,
   "id": "2453fe3e",
   "metadata": {},
   "outputs": [
    {
     "data": {
      "text/html": [
       "<div>\n",
       "<style scoped>\n",
       "    .dataframe tbody tr th:only-of-type {\n",
       "        vertical-align: middle;\n",
       "    }\n",
       "\n",
       "    .dataframe tbody tr th {\n",
       "        vertical-align: top;\n",
       "    }\n",
       "\n",
       "    .dataframe thead th {\n",
       "        text-align: right;\n",
       "    }\n",
       "</style>\n",
       "<table border=\"1\" class=\"dataframe\">\n",
       "  <thead>\n",
       "    <tr style=\"text-align: right;\">\n",
       "      <th></th>\n",
       "      <th>Product</th>\n",
       "      <th>MRP</th>\n",
       "      <th>Feature</th>\n",
       "      <th>Brand_name</th>\n",
       "      <th>RAM_Type</th>\n",
       "      <th>RAM_Size</th>\n",
       "      <th>Storage_size</th>\n",
       "      <th>Storage_type</th>\n",
       "      <th>OS_Type</th>\n",
       "      <th>Processor Type</th>\n",
       "    </tr>\n",
       "  </thead>\n",
       "  <tbody>\n",
       "    <tr>\n",
       "      <th>0</th>\n",
       "      <td>Lenovo IdeaPad 3 Core i3 11th Gen - (8 GB/256 ...</td>\n",
       "      <td>36990.0</td>\n",
       "      <td>Intel Core i3 Processor (11th Gen)8 GB DDR4 RA...</td>\n",
       "      <td>Lenovo</td>\n",
       "      <td>DDR4</td>\n",
       "      <td>8</td>\n",
       "      <td>256</td>\n",
       "      <td>SSD</td>\n",
       "      <td>Windows</td>\n",
       "      <td>Intel Core i3</td>\n",
       "    </tr>\n",
       "    <tr>\n",
       "      <th>1</th>\n",
       "      <td>Lenovo IdeaPad 3 Core i3 11th Gen - (8 GB/512 ...</td>\n",
       "      <td>39990.0</td>\n",
       "      <td>Intel Core i3 Processor (11th Gen)8 GB DDR4 RA...</td>\n",
       "      <td>Lenovo</td>\n",
       "      <td>DDR4</td>\n",
       "      <td>8</td>\n",
       "      <td>512</td>\n",
       "      <td>SSD</td>\n",
       "      <td>Windows</td>\n",
       "      <td>Intel Core i3</td>\n",
       "    </tr>\n",
       "    <tr>\n",
       "      <th>2</th>\n",
       "      <td>ASUS VivoBook 15 (2022) Core i3 10th Gen - (8 ...</td>\n",
       "      <td>32990.0</td>\n",
       "      <td>Intel Core i3 Processor (10th Gen)8 GB DDR4 RA...</td>\n",
       "      <td>ASUS</td>\n",
       "      <td>DDR4</td>\n",
       "      <td>8</td>\n",
       "      <td>512</td>\n",
       "      <td>SSD</td>\n",
       "      <td>Windows</td>\n",
       "      <td>Intel Core i3</td>\n",
       "    </tr>\n",
       "    <tr>\n",
       "      <th>3</th>\n",
       "      <td>HP Pavilion Ryzen 5 Hexa Core AMD R5-5600H - (...</td>\n",
       "      <td>49990.0</td>\n",
       "      <td>AMD Ryzen 5 Hexa Core Processor8 GB DDR4 RAM64...</td>\n",
       "      <td>HP</td>\n",
       "      <td>DDR4</td>\n",
       "      <td>8</td>\n",
       "      <td>512</td>\n",
       "      <td>SSD</td>\n",
       "      <td>Windows</td>\n",
       "      <td>AMD Ryzen 5 Hexa Core</td>\n",
       "    </tr>\n",
       "    <tr>\n",
       "      <th>4</th>\n",
       "      <td>ASUS TUF Gaming F15 Core i5 10th Gen - (8 GB/5...</td>\n",
       "      <td>49990.0</td>\n",
       "      <td>Intel Core i5 Processor (10th Gen)8 GB DDR4 RA...</td>\n",
       "      <td>ASUS</td>\n",
       "      <td>DDR4</td>\n",
       "      <td>8</td>\n",
       "      <td>512</td>\n",
       "      <td>SSD</td>\n",
       "      <td>Windows</td>\n",
       "      <td>Intel Core i5</td>\n",
       "    </tr>\n",
       "  </tbody>\n",
       "</table>\n",
       "</div>"
      ],
      "text/plain": [
       "                                             Product      MRP  \\\n",
       "0  Lenovo IdeaPad 3 Core i3 11th Gen - (8 GB/256 ...  36990.0   \n",
       "1  Lenovo IdeaPad 3 Core i3 11th Gen - (8 GB/512 ...  39990.0   \n",
       "2  ASUS VivoBook 15 (2022) Core i3 10th Gen - (8 ...  32990.0   \n",
       "3  HP Pavilion Ryzen 5 Hexa Core AMD R5-5600H - (...  49990.0   \n",
       "4  ASUS TUF Gaming F15 Core i5 10th Gen - (8 GB/5...  49990.0   \n",
       "\n",
       "                                             Feature Brand_name RAM_Type  \\\n",
       "0  Intel Core i3 Processor (11th Gen)8 GB DDR4 RA...     Lenovo     DDR4   \n",
       "1  Intel Core i3 Processor (11th Gen)8 GB DDR4 RA...     Lenovo     DDR4   \n",
       "2  Intel Core i3 Processor (10th Gen)8 GB DDR4 RA...       ASUS     DDR4   \n",
       "3  AMD Ryzen 5 Hexa Core Processor8 GB DDR4 RAM64...         HP     DDR4   \n",
       "4  Intel Core i5 Processor (10th Gen)8 GB DDR4 RA...       ASUS     DDR4   \n",
       "\n",
       "   RAM_Size  Storage_size Storage_type  OS_Type         Processor Type  \n",
       "0         8           256          SSD  Windows          Intel Core i3  \n",
       "1         8           512          SSD  Windows          Intel Core i3  \n",
       "2         8           512          SSD  Windows          Intel Core i3  \n",
       "3         8           512          SSD  Windows  AMD Ryzen 5 Hexa Core  \n",
       "4         8           512          SSD  Windows          Intel Core i5  "
      ]
     },
     "execution_count": 25,
     "metadata": {},
     "output_type": "execute_result"
    }
   ],
   "source": [
    "df.head()"
   ]
  },
  {
   "cell_type": "code",
   "execution_count": 26,
   "id": "3feb594c",
   "metadata": {},
   "outputs": [],
   "source": [
    "#Processor_Brand\n",
    "def extract_processor_brand(text):\n",
    "    if re.search(r\"intel\", text, re.IGNORECASE):\n",
    "        return \"Intel\"\n",
    "    elif re.search(r\"amd\", text, re.IGNORECASE):\n",
    "        return \"AMD\"\n",
    "    else:\n",
    "        return \"Others\"\n",
    "\n",
    "\n",
    "df['Processor'] = df['Feature'].apply(extract_processor_brand)\n"
   ]
  },
  {
   "cell_type": "code",
   "execution_count": 27,
   "id": "099eb882",
   "metadata": {},
   "outputs": [
    {
     "data": {
      "text/plain": [
       "Intel     272\n",
       "AMD       129\n",
       "Others     20\n",
       "Name: Processor, dtype: int64"
      ]
     },
     "execution_count": 27,
     "metadata": {},
     "output_type": "execute_result"
    }
   ],
   "source": [
    "df['Processor'].value_counts()"
   ]
  },
  {
   "cell_type": "code",
   "execution_count": 28,
   "id": "6ec4aa6f",
   "metadata": {},
   "outputs": [
    {
     "data": {
      "text/plain": [
       "array(['Intel', 'AMD', 'Others'], dtype=object)"
      ]
     },
     "execution_count": 28,
     "metadata": {},
     "output_type": "execute_result"
    }
   ],
   "source": [
    "df.Processor.unique()"
   ]
  },
  {
   "cell_type": "code",
   "execution_count": 29,
   "id": "a44de411",
   "metadata": {},
   "outputs": [
    {
     "data": {
      "text/html": [
       "<div>\n",
       "<style scoped>\n",
       "    .dataframe tbody tr th:only-of-type {\n",
       "        vertical-align: middle;\n",
       "    }\n",
       "\n",
       "    .dataframe tbody tr th {\n",
       "        vertical-align: top;\n",
       "    }\n",
       "\n",
       "    .dataframe thead th {\n",
       "        text-align: right;\n",
       "    }\n",
       "</style>\n",
       "<table border=\"1\" class=\"dataframe\">\n",
       "  <thead>\n",
       "    <tr style=\"text-align: right;\">\n",
       "      <th></th>\n",
       "      <th>Product</th>\n",
       "      <th>MRP</th>\n",
       "      <th>Feature</th>\n",
       "      <th>Brand_name</th>\n",
       "      <th>RAM_Type</th>\n",
       "      <th>RAM_Size</th>\n",
       "      <th>Storage_size</th>\n",
       "      <th>Storage_type</th>\n",
       "      <th>OS_Type</th>\n",
       "      <th>Processor Type</th>\n",
       "      <th>Processor</th>\n",
       "    </tr>\n",
       "  </thead>\n",
       "  <tbody>\n",
       "    <tr>\n",
       "      <th>0</th>\n",
       "      <td>Lenovo IdeaPad 3 Core i3 11th Gen - (8 GB/256 ...</td>\n",
       "      <td>36990.0</td>\n",
       "      <td>Intel Core i3 Processor (11th Gen)8 GB DDR4 RA...</td>\n",
       "      <td>Lenovo</td>\n",
       "      <td>DDR4</td>\n",
       "      <td>8</td>\n",
       "      <td>256</td>\n",
       "      <td>SSD</td>\n",
       "      <td>Windows</td>\n",
       "      <td>Intel Core i3</td>\n",
       "      <td>Intel</td>\n",
       "    </tr>\n",
       "    <tr>\n",
       "      <th>1</th>\n",
       "      <td>Lenovo IdeaPad 3 Core i3 11th Gen - (8 GB/512 ...</td>\n",
       "      <td>39990.0</td>\n",
       "      <td>Intel Core i3 Processor (11th Gen)8 GB DDR4 RA...</td>\n",
       "      <td>Lenovo</td>\n",
       "      <td>DDR4</td>\n",
       "      <td>8</td>\n",
       "      <td>512</td>\n",
       "      <td>SSD</td>\n",
       "      <td>Windows</td>\n",
       "      <td>Intel Core i3</td>\n",
       "      <td>Intel</td>\n",
       "    </tr>\n",
       "    <tr>\n",
       "      <th>2</th>\n",
       "      <td>ASUS VivoBook 15 (2022) Core i3 10th Gen - (8 ...</td>\n",
       "      <td>32990.0</td>\n",
       "      <td>Intel Core i3 Processor (10th Gen)8 GB DDR4 RA...</td>\n",
       "      <td>ASUS</td>\n",
       "      <td>DDR4</td>\n",
       "      <td>8</td>\n",
       "      <td>512</td>\n",
       "      <td>SSD</td>\n",
       "      <td>Windows</td>\n",
       "      <td>Intel Core i3</td>\n",
       "      <td>Intel</td>\n",
       "    </tr>\n",
       "    <tr>\n",
       "      <th>3</th>\n",
       "      <td>HP Pavilion Ryzen 5 Hexa Core AMD R5-5600H - (...</td>\n",
       "      <td>49990.0</td>\n",
       "      <td>AMD Ryzen 5 Hexa Core Processor8 GB DDR4 RAM64...</td>\n",
       "      <td>HP</td>\n",
       "      <td>DDR4</td>\n",
       "      <td>8</td>\n",
       "      <td>512</td>\n",
       "      <td>SSD</td>\n",
       "      <td>Windows</td>\n",
       "      <td>AMD Ryzen 5 Hexa Core</td>\n",
       "      <td>AMD</td>\n",
       "    </tr>\n",
       "    <tr>\n",
       "      <th>4</th>\n",
       "      <td>ASUS TUF Gaming F15 Core i5 10th Gen - (8 GB/5...</td>\n",
       "      <td>49990.0</td>\n",
       "      <td>Intel Core i5 Processor (10th Gen)8 GB DDR4 RA...</td>\n",
       "      <td>ASUS</td>\n",
       "      <td>DDR4</td>\n",
       "      <td>8</td>\n",
       "      <td>512</td>\n",
       "      <td>SSD</td>\n",
       "      <td>Windows</td>\n",
       "      <td>Intel Core i5</td>\n",
       "      <td>Intel</td>\n",
       "    </tr>\n",
       "  </tbody>\n",
       "</table>\n",
       "</div>"
      ],
      "text/plain": [
       "                                             Product      MRP  \\\n",
       "0  Lenovo IdeaPad 3 Core i3 11th Gen - (8 GB/256 ...  36990.0   \n",
       "1  Lenovo IdeaPad 3 Core i3 11th Gen - (8 GB/512 ...  39990.0   \n",
       "2  ASUS VivoBook 15 (2022) Core i3 10th Gen - (8 ...  32990.0   \n",
       "3  HP Pavilion Ryzen 5 Hexa Core AMD R5-5600H - (...  49990.0   \n",
       "4  ASUS TUF Gaming F15 Core i5 10th Gen - (8 GB/5...  49990.0   \n",
       "\n",
       "                                             Feature Brand_name RAM_Type  \\\n",
       "0  Intel Core i3 Processor (11th Gen)8 GB DDR4 RA...     Lenovo     DDR4   \n",
       "1  Intel Core i3 Processor (11th Gen)8 GB DDR4 RA...     Lenovo     DDR4   \n",
       "2  Intel Core i3 Processor (10th Gen)8 GB DDR4 RA...       ASUS     DDR4   \n",
       "3  AMD Ryzen 5 Hexa Core Processor8 GB DDR4 RAM64...         HP     DDR4   \n",
       "4  Intel Core i5 Processor (10th Gen)8 GB DDR4 RA...       ASUS     DDR4   \n",
       "\n",
       "   RAM_Size  Storage_size Storage_type  OS_Type         Processor Type  \\\n",
       "0         8           256          SSD  Windows          Intel Core i3   \n",
       "1         8           512          SSD  Windows          Intel Core i3   \n",
       "2         8           512          SSD  Windows          Intel Core i3   \n",
       "3         8           512          SSD  Windows  AMD Ryzen 5 Hexa Core   \n",
       "4         8           512          SSD  Windows          Intel Core i5   \n",
       "\n",
       "  Processor  \n",
       "0     Intel  \n",
       "1     Intel  \n",
       "2     Intel  \n",
       "3       AMD  \n",
       "4     Intel  "
      ]
     },
     "execution_count": 29,
     "metadata": {},
     "output_type": "execute_result"
    }
   ],
   "source": [
    "df.head()"
   ]
  },
  {
   "cell_type": "markdown",
   "id": "af6fe910",
   "metadata": {},
   "source": [
    "### EDA"
   ]
  },
  {
   "cell_type": "code",
   "execution_count": 30,
   "id": "ae9f7a0a",
   "metadata": {},
   "outputs": [],
   "source": [
    "df_new = df[['Brand_name','Processor','RAM_Size',\"RAM_Type\",'Storage_size',\"Storage_type\",'OS_Type',\"MRP\"]]"
   ]
  },
  {
   "cell_type": "code",
   "execution_count": 31,
   "id": "c88d5d11",
   "metadata": {},
   "outputs": [
    {
     "data": {
      "text/html": [
       "<div>\n",
       "<style scoped>\n",
       "    .dataframe tbody tr th:only-of-type {\n",
       "        vertical-align: middle;\n",
       "    }\n",
       "\n",
       "    .dataframe tbody tr th {\n",
       "        vertical-align: top;\n",
       "    }\n",
       "\n",
       "    .dataframe thead th {\n",
       "        text-align: right;\n",
       "    }\n",
       "</style>\n",
       "<table border=\"1\" class=\"dataframe\">\n",
       "  <thead>\n",
       "    <tr style=\"text-align: right;\">\n",
       "      <th></th>\n",
       "      <th>Brand_name</th>\n",
       "      <th>Processor</th>\n",
       "      <th>RAM_Size</th>\n",
       "      <th>RAM_Type</th>\n",
       "      <th>Storage_size</th>\n",
       "      <th>Storage_type</th>\n",
       "      <th>OS_Type</th>\n",
       "      <th>MRP</th>\n",
       "    </tr>\n",
       "  </thead>\n",
       "  <tbody>\n",
       "    <tr>\n",
       "      <th>0</th>\n",
       "      <td>Lenovo</td>\n",
       "      <td>Intel</td>\n",
       "      <td>8</td>\n",
       "      <td>DDR4</td>\n",
       "      <td>256</td>\n",
       "      <td>SSD</td>\n",
       "      <td>Windows</td>\n",
       "      <td>36990.0</td>\n",
       "    </tr>\n",
       "    <tr>\n",
       "      <th>1</th>\n",
       "      <td>Lenovo</td>\n",
       "      <td>Intel</td>\n",
       "      <td>8</td>\n",
       "      <td>DDR4</td>\n",
       "      <td>512</td>\n",
       "      <td>SSD</td>\n",
       "      <td>Windows</td>\n",
       "      <td>39990.0</td>\n",
       "    </tr>\n",
       "    <tr>\n",
       "      <th>2</th>\n",
       "      <td>ASUS</td>\n",
       "      <td>Intel</td>\n",
       "      <td>8</td>\n",
       "      <td>DDR4</td>\n",
       "      <td>512</td>\n",
       "      <td>SSD</td>\n",
       "      <td>Windows</td>\n",
       "      <td>32990.0</td>\n",
       "    </tr>\n",
       "    <tr>\n",
       "      <th>3</th>\n",
       "      <td>HP</td>\n",
       "      <td>AMD</td>\n",
       "      <td>8</td>\n",
       "      <td>DDR4</td>\n",
       "      <td>512</td>\n",
       "      <td>SSD</td>\n",
       "      <td>Windows</td>\n",
       "      <td>49990.0</td>\n",
       "    </tr>\n",
       "    <tr>\n",
       "      <th>4</th>\n",
       "      <td>ASUS</td>\n",
       "      <td>Intel</td>\n",
       "      <td>8</td>\n",
       "      <td>DDR4</td>\n",
       "      <td>512</td>\n",
       "      <td>SSD</td>\n",
       "      <td>Windows</td>\n",
       "      <td>49990.0</td>\n",
       "    </tr>\n",
       "  </tbody>\n",
       "</table>\n",
       "</div>"
      ],
      "text/plain": [
       "  Brand_name Processor  RAM_Size RAM_Type  Storage_size Storage_type  OS_Type  \\\n",
       "0     Lenovo     Intel         8     DDR4           256          SSD  Windows   \n",
       "1     Lenovo     Intel         8     DDR4           512          SSD  Windows   \n",
       "2       ASUS     Intel         8     DDR4           512          SSD  Windows   \n",
       "3         HP       AMD         8     DDR4           512          SSD  Windows   \n",
       "4       ASUS     Intel         8     DDR4           512          SSD  Windows   \n",
       "\n",
       "       MRP  \n",
       "0  36990.0  \n",
       "1  39990.0  \n",
       "2  32990.0  \n",
       "3  49990.0  \n",
       "4  49990.0  "
      ]
     },
     "execution_count": 31,
     "metadata": {},
     "output_type": "execute_result"
    }
   ],
   "source": [
    "df_new.head()"
   ]
  },
  {
   "cell_type": "code",
   "execution_count": 32,
   "id": "4fa9c7b3",
   "metadata": {},
   "outputs": [
    {
     "name": "stdout",
     "output_type": "stream",
     "text": [
      "<class 'pandas.core.frame.DataFrame'>\n",
      "Int64Index: 421 entries, 0 to 719\n",
      "Data columns (total 8 columns):\n",
      " #   Column        Non-Null Count  Dtype  \n",
      "---  ------        --------------  -----  \n",
      " 0   Brand_name    421 non-null    object \n",
      " 1   Processor     421 non-null    object \n",
      " 2   RAM_Size      421 non-null    int64  \n",
      " 3   RAM_Type      409 non-null    object \n",
      " 4   Storage_size  421 non-null    int64  \n",
      " 5   Storage_type  421 non-null    object \n",
      " 6   OS_Type       421 non-null    object \n",
      " 7   MRP           421 non-null    float64\n",
      "dtypes: float64(1), int64(2), object(5)\n",
      "memory usage: 29.6+ KB\n"
     ]
    }
   ],
   "source": [
    "df_new.info()"
   ]
  },
  {
   "cell_type": "code",
   "execution_count": 33,
   "id": "23a30c3c",
   "metadata": {},
   "outputs": [
    {
     "name": "stdout",
     "output_type": "stream",
     "text": [
      "Minimum : 14990.0\n",
      "Maximum : 434830.0\n",
      "Mean : 81363.63182897863\n",
      "Median : 61490.0\n",
      "Standard Deviation : 62584.16837149968\n"
     ]
    }
   ],
   "source": [
    "print(\"Minimum :\", df_new['MRP'].min())\n",
    "print(\"Maximum :\", df_new['MRP'].max())\n",
    "print(\"Mean :\", df_new['MRP'].mean())\n",
    "print(\"Median :\", df_new['MRP'].median())\n",
    "print(\"Standard Deviation :\", df_new['MRP'].std())"
   ]
  },
  {
   "cell_type": "code",
   "execution_count": 34,
   "id": "fd52d376",
   "metadata": {},
   "outputs": [],
   "source": [
    "#Obervation : DEfinitely outliers present  "
   ]
  },
  {
   "cell_type": "code",
   "execution_count": 35,
   "id": "3e3cc8f7",
   "metadata": {},
   "outputs": [
    {
     "data": {
      "text/plain": [
       "<seaborn.axisgrid.FacetGrid at 0x160068d5700>"
      ]
     },
     "execution_count": 35,
     "metadata": {},
     "output_type": "execute_result"
    },
    {
     "data": {
      "image/png": "[encoded data removed]",
      "text/plain": [
       "<Figure size 360x360 with 1 Axes>"
      ]
     },
     "metadata": {
      "needs_background": "light"
     },
     "output_type": "display_data"
    }
   ],
   "source": [
    "#MRP_analysis\n",
    "sns.displot(df_new['MRP'], rug= True)"
   ]
  },
  {
   "cell_type": "code",
   "execution_count": 36,
   "id": "78ae1fe7",
   "metadata": {},
   "outputs": [
    {
     "data": {
      "text/plain": [
       "<AxesSubplot:>"
      ]
     },
     "execution_count": 36,
     "metadata": {},
     "output_type": "execute_result"
    },
    {
     "data": {
      "image/png": "[encoded data removed]",
      "text/plain": [
       "<Figure size 1224x360 with 1 Axes>"
      ]
     },
     "metadata": {
      "needs_background": "light"
     },
     "output_type": "display_data"
    }
   ],
   "source": [
    "#Outliers\n",
    "df_new['MRP'].plot(kind='box', figsize=(17,5))"
   ]
  },
  {
   "cell_type": "code",
   "execution_count": 37,
   "id": "c5bbe430",
   "metadata": {},
   "outputs": [
    {
     "data": {
      "text/plain": [
       "<AxesSubplot:ylabel='Frequency'>"
      ]
     },
     "execution_count": 37,
     "metadata": {},
     "output_type": "execute_result"
    },
    {
     "data": {
      "image/png": "[encoded data removed]",
      "text/plain": [
       "<Figure size 1152x360 with 1 Axes>"
      ]
     },
     "metadata": {
      "needs_background": "light"
     },
     "output_type": "display_data"
    }
   ],
   "source": [
    "df_new['MRP'].plot(kind='hist', figsize=(16,5))"
   ]
  },
  {
   "cell_type": "code",
   "execution_count": 38,
   "id": "69106814",
   "metadata": {},
   "outputs": [
    {
     "data": {
      "text/plain": [
       "<AxesSubplot:xlabel='count', ylabel='RAM_Size'>"
      ]
     },
     "execution_count": 38,
     "metadata": {},
     "output_type": "execute_result"
    },
    {
     "data": {
      "image/png": "[encoded data removed]",
      "text/plain": [
       "<Figure size 1152x360 with 1 Axes>"
      ]
     },
     "metadata": {
      "needs_background": "light"
     },
     "output_type": "display_data"
    }
   ],
   "source": [
    "#RAM_size analysis\n",
    "plt.figure(figsize = (16,5))\n",
    "sns.countplot( y = \"RAM_Size\" , data = df_new)\n",
    "\n",
    "\n",
    "#Obeservation : most popular one is the one with 8GB "
   ]
  },
  {
   "cell_type": "code",
   "execution_count": 39,
   "id": "72ae6dfd",
   "metadata": {},
   "outputs": [
    {
     "data": {
      "text/plain": [
       "<AxesSubplot:xlabel='RAM_Size', ylabel='MRP'>"
      ]
     },
     "execution_count": 39,
     "metadata": {},
     "output_type": "execute_result"
    },
    {
     "data": {
      "image/png": "[encoded data removed]",
      "text/plain": [
       "<Figure size 720x360 with 1 Axes>"
      ]
     },
     "metadata": {
      "needs_background": "light"
     },
     "output_type": "display_data"
    }
   ],
   "source": [
    "#Price_vs_Ram_size\n",
    "plt.figure(figsize = (10,5))\n",
    "sns.boxplot(x='RAM_Size', y = 'MRP', data = df_new)\n",
    "\n",
    "#Obeservations: higher the proce for higher the RAM size , obviously"
   ]
  },
  {
   "cell_type": "code",
   "execution_count": 40,
   "id": "d7342a56",
   "metadata": {},
   "outputs": [
    {
     "data": {
      "text/plain": [
       "<matplotlib.collections.PathCollection at 0x16006fba310>"
      ]
     },
     "execution_count": 40,
     "metadata": {},
     "output_type": "execute_result"
    },
    {
     "data": {
      "image/png": "[encoded data removed]",
      "text/plain": [
       "<Figure size 720x432 with 1 Axes>"
      ]
     },
     "metadata": {
      "needs_background": "light"
     },
     "output_type": "display_data"
    }
   ],
   "source": [
    "fig = plt.figure(figsize = (10, 6))\n",
    "plt.scatter(df_new.RAM_Size, df_new.MRP)"
   ]
  },
  {
   "cell_type": "code",
   "execution_count": 41,
   "id": "0a73fb56",
   "metadata": {},
   "outputs": [
    {
     "data": {
      "text/plain": [
       "<AxesSubplot:xlabel='Storage_size', ylabel='MRP'>"
      ]
     },
     "execution_count": 41,
     "metadata": {},
     "output_type": "execute_result"
    },
    {
     "data": {
      "image/png": "[encoded data removed]",
      "text/plain": [
       "<Figure size 1080x360 with 1 Axes>"
      ]
     },
     "metadata": {
      "needs_background": "light"
     },
     "output_type": "display_data"
    }
   ],
   "source": [
    "#Storage_size_vs_Price\n",
    "plt.figure(figsize=(15, 5))\n",
    "sns.boxplot(x='Storage_size', y ='MRP', data=df_new)\n",
    "\n",
    "#OBservation: Again more the storage most the price"
   ]
  },
  {
   "cell_type": "code",
   "execution_count": 42,
   "id": "e4fcbe9d",
   "metadata": {},
   "outputs": [
    {
     "data": {
      "text/plain": [
       "<AxesSubplot:>"
      ]
     },
     "execution_count": 42,
     "metadata": {},
     "output_type": "execute_result"
    },
    {
     "data": {
      "image/png": "[encoded data removed]",
      "text/plain": [
       "<Figure size 936x720 with 2 Axes>"
      ]
     },
     "metadata": {
      "needs_background": "light"
     },
     "output_type": "display_data"
    }
   ],
   "source": [
    "#Co-relation b/w Price and other numerical features \n",
    "plt.figure(figsize = (13,10))\n",
    "sns.heatmap(df_new.corr(), cmap=\"Greens\" , annot= True)\n",
    "\n",
    "#Observation : Ram_size has most correlation b/w price 65%"
   ]
  },
  {
   "cell_type": "code",
   "execution_count": 43,
   "id": "a789c9ee",
   "metadata": {},
   "outputs": [
    {
     "data": {
      "text/plain": [
       "Text(0.5, 1.0, 'Average Price of Laptop as per the  Brand')"
      ]
     },
     "execution_count": 43,
     "metadata": {},
     "output_type": "execute_result"
    },
    {
     "data": {
      "image/png": "[encoded data removed]",
      "text/plain": [
       "<Figure size 1152x360 with 1 Axes>"
      ]
     },
     "metadata": {
      "needs_background": "light"
     },
     "output_type": "display_data"
    }
   ],
   "source": [
    "# Average Price as per Brand\n",
    "plt.figure(figsize=(16,5))\n",
    "sns.barplot(data=df, x=\"Brand_name\", y=\"MRP\" );\n",
    "plt.ylabel(\"Average MRP\")\n",
    "plt.title(\"Average Price of Laptop as per the  Brand\")\n",
    "\n",
    "#Observation : \"Alienware\" is the most expensive one "
   ]
  },
  {
   "cell_type": "markdown",
   "id": "2c603a58",
   "metadata": {},
   "source": [
    "### Summary of insights\n",
    "- ALienware is the most expensive laptops with avg of 2-3.5 lakhs\n",
    "- The more the storage size the higher the price\n",
    "- Higher the Ram size the higher the price\n",
    "- Higher the Storage size the more expensive the laptop is . "
   ]
  },
  {
   "cell_type": "markdown",
   "id": "ed134d9c",
   "metadata": {},
   "source": [
    "### Building a Model"
   ]
  },
  {
   "cell_type": "code",
   "execution_count": 44,
   "id": "fb17c27b",
   "metadata": {},
   "outputs": [
    {
     "data": {
      "text/html": [
       "<div>\n",
       "<style scoped>\n",
       "    .dataframe tbody tr th:only-of-type {\n",
       "        vertical-align: middle;\n",
       "    }\n",
       "\n",
       "    .dataframe tbody tr th {\n",
       "        vertical-align: top;\n",
       "    }\n",
       "\n",
       "    .dataframe thead th {\n",
       "        text-align: right;\n",
       "    }\n",
       "</style>\n",
       "<table border=\"1\" class=\"dataframe\">\n",
       "  <thead>\n",
       "    <tr style=\"text-align: right;\">\n",
       "      <th></th>\n",
       "      <th>Processor</th>\n",
       "      <th>RAM_Size</th>\n",
       "      <th>RAM_Type</th>\n",
       "      <th>Storage_size</th>\n",
       "      <th>Storage_type</th>\n",
       "      <th>OS_Type</th>\n",
       "      <th>MRP</th>\n",
       "    </tr>\n",
       "  </thead>\n",
       "  <tbody>\n",
       "    <tr>\n",
       "      <th>0</th>\n",
       "      <td>Intel</td>\n",
       "      <td>8</td>\n",
       "      <td>DDR4</td>\n",
       "      <td>256</td>\n",
       "      <td>SSD</td>\n",
       "      <td>Windows</td>\n",
       "      <td>36990.0</td>\n",
       "    </tr>\n",
       "    <tr>\n",
       "      <th>1</th>\n",
       "      <td>Intel</td>\n",
       "      <td>8</td>\n",
       "      <td>DDR4</td>\n",
       "      <td>512</td>\n",
       "      <td>SSD</td>\n",
       "      <td>Windows</td>\n",
       "      <td>39990.0</td>\n",
       "    </tr>\n",
       "    <tr>\n",
       "      <th>2</th>\n",
       "      <td>Intel</td>\n",
       "      <td>8</td>\n",
       "      <td>DDR4</td>\n",
       "      <td>512</td>\n",
       "      <td>SSD</td>\n",
       "      <td>Windows</td>\n",
       "      <td>32990.0</td>\n",
       "    </tr>\n",
       "    <tr>\n",
       "      <th>3</th>\n",
       "      <td>AMD</td>\n",
       "      <td>8</td>\n",
       "      <td>DDR4</td>\n",
       "      <td>512</td>\n",
       "      <td>SSD</td>\n",
       "      <td>Windows</td>\n",
       "      <td>49990.0</td>\n",
       "    </tr>\n",
       "    <tr>\n",
       "      <th>4</th>\n",
       "      <td>Intel</td>\n",
       "      <td>8</td>\n",
       "      <td>DDR4</td>\n",
       "      <td>512</td>\n",
       "      <td>SSD</td>\n",
       "      <td>Windows</td>\n",
       "      <td>49990.0</td>\n",
       "    </tr>\n",
       "    <tr>\n",
       "      <th>...</th>\n",
       "      <td>...</td>\n",
       "      <td>...</td>\n",
       "      <td>...</td>\n",
       "      <td>...</td>\n",
       "      <td>...</td>\n",
       "      <td>...</td>\n",
       "      <td>...</td>\n",
       "    </tr>\n",
       "    <tr>\n",
       "      <th>713</th>\n",
       "      <td>Intel</td>\n",
       "      <td>16</td>\n",
       "      <td>DDR5</td>\n",
       "      <td>512</td>\n",
       "      <td>SSD</td>\n",
       "      <td>Windows</td>\n",
       "      <td>76590.0</td>\n",
       "    </tr>\n",
       "    <tr>\n",
       "      <th>714</th>\n",
       "      <td>AMD</td>\n",
       "      <td>16</td>\n",
       "      <td>DDR4</td>\n",
       "      <td>512</td>\n",
       "      <td>SSD</td>\n",
       "      <td>Windows</td>\n",
       "      <td>90000.0</td>\n",
       "    </tr>\n",
       "    <tr>\n",
       "      <th>715</th>\n",
       "      <td>Intel</td>\n",
       "      <td>4</td>\n",
       "      <td>LPDDR4</td>\n",
       "      <td>1</td>\n",
       "      <td>SSD</td>\n",
       "      <td>Others</td>\n",
       "      <td>23490.0</td>\n",
       "    </tr>\n",
       "    <tr>\n",
       "      <th>718</th>\n",
       "      <td>Intel</td>\n",
       "      <td>16</td>\n",
       "      <td>LPDDR5</td>\n",
       "      <td>512</td>\n",
       "      <td>SSD</td>\n",
       "      <td>Windows</td>\n",
       "      <td>125990.0</td>\n",
       "    </tr>\n",
       "    <tr>\n",
       "      <th>719</th>\n",
       "      <td>Intel</td>\n",
       "      <td>8</td>\n",
       "      <td>DDR4</td>\n",
       "      <td>256</td>\n",
       "      <td>HDD</td>\n",
       "      <td>Windows</td>\n",
       "      <td>50990.0</td>\n",
       "    </tr>\n",
       "  </tbody>\n",
       "</table>\n",
       "<p>421 rows × 7 columns</p>\n",
       "</div>"
      ],
      "text/plain": [
       "    Processor  RAM_Size RAM_Type  Storage_size Storage_type  OS_Type       MRP\n",
       "0       Intel         8     DDR4           256          SSD  Windows   36990.0\n",
       "1       Intel         8     DDR4           512          SSD  Windows   39990.0\n",
       "2       Intel         8     DDR4           512          SSD  Windows   32990.0\n",
       "3         AMD         8     DDR4           512          SSD  Windows   49990.0\n",
       "4       Intel         8     DDR4           512          SSD  Windows   49990.0\n",
       "..        ...       ...      ...           ...          ...      ...       ...\n",
       "713     Intel        16     DDR5           512          SSD  Windows   76590.0\n",
       "714       AMD        16     DDR4           512          SSD  Windows   90000.0\n",
       "715     Intel         4   LPDDR4             1          SSD   Others   23490.0\n",
       "718     Intel        16   LPDDR5           512          SSD  Windows  125990.0\n",
       "719     Intel         8     DDR4           256          HDD  Windows   50990.0\n",
       "\n",
       "[421 rows x 7 columns]"
      ]
     },
     "execution_count": 44,
     "metadata": {},
     "output_type": "execute_result"
    }
   ],
   "source": [
    "df_new.drop(columns = [\"Brand_name\"], axis = 1)"
   ]
  },
  {
   "cell_type": "code",
   "execution_count": 45,
   "id": "559972f2",
   "metadata": {},
   "outputs": [
    {
     "data": {
      "text/html": [
       "<div>\n",
       "<style scoped>\n",
       "    .dataframe tbody tr th:only-of-type {\n",
       "        vertical-align: middle;\n",
       "    }\n",
       "\n",
       "    .dataframe tbody tr th {\n",
       "        vertical-align: top;\n",
       "    }\n",
       "\n",
       "    .dataframe thead th {\n",
       "        text-align: right;\n",
       "    }\n",
       "</style>\n",
       "<table border=\"1\" class=\"dataframe\">\n",
       "  <thead>\n",
       "    <tr style=\"text-align: right;\">\n",
       "      <th></th>\n",
       "      <th>Brand_name</th>\n",
       "      <th>Processor</th>\n",
       "      <th>RAM_Size</th>\n",
       "      <th>RAM_Type</th>\n",
       "      <th>Storage_size</th>\n",
       "      <th>Storage_type</th>\n",
       "      <th>OS_Type</th>\n",
       "      <th>MRP</th>\n",
       "    </tr>\n",
       "  </thead>\n",
       "  <tbody>\n",
       "    <tr>\n",
       "      <th>0</th>\n",
       "      <td>Lenovo</td>\n",
       "      <td>Intel</td>\n",
       "      <td>8</td>\n",
       "      <td>DDR4</td>\n",
       "      <td>256</td>\n",
       "      <td>SSD</td>\n",
       "      <td>Windows</td>\n",
       "      <td>36990.0</td>\n",
       "    </tr>\n",
       "    <tr>\n",
       "      <th>1</th>\n",
       "      <td>Lenovo</td>\n",
       "      <td>Intel</td>\n",
       "      <td>8</td>\n",
       "      <td>DDR4</td>\n",
       "      <td>512</td>\n",
       "      <td>SSD</td>\n",
       "      <td>Windows</td>\n",
       "      <td>39990.0</td>\n",
       "    </tr>\n",
       "    <tr>\n",
       "      <th>2</th>\n",
       "      <td>ASUS</td>\n",
       "      <td>Intel</td>\n",
       "      <td>8</td>\n",
       "      <td>DDR4</td>\n",
       "      <td>512</td>\n",
       "      <td>SSD</td>\n",
       "      <td>Windows</td>\n",
       "      <td>32990.0</td>\n",
       "    </tr>\n",
       "    <tr>\n",
       "      <th>3</th>\n",
       "      <td>HP</td>\n",
       "      <td>AMD</td>\n",
       "      <td>8</td>\n",
       "      <td>DDR4</td>\n",
       "      <td>512</td>\n",
       "      <td>SSD</td>\n",
       "      <td>Windows</td>\n",
       "      <td>49990.0</td>\n",
       "    </tr>\n",
       "    <tr>\n",
       "      <th>4</th>\n",
       "      <td>ASUS</td>\n",
       "      <td>Intel</td>\n",
       "      <td>8</td>\n",
       "      <td>DDR4</td>\n",
       "      <td>512</td>\n",
       "      <td>SSD</td>\n",
       "      <td>Windows</td>\n",
       "      <td>49990.0</td>\n",
       "    </tr>\n",
       "  </tbody>\n",
       "</table>\n",
       "</div>"
      ],
      "text/plain": [
       "  Brand_name Processor  RAM_Size RAM_Type  Storage_size Storage_type  OS_Type  \\\n",
       "0     Lenovo     Intel         8     DDR4           256          SSD  Windows   \n",
       "1     Lenovo     Intel         8     DDR4           512          SSD  Windows   \n",
       "2       ASUS     Intel         8     DDR4           512          SSD  Windows   \n",
       "3         HP       AMD         8     DDR4           512          SSD  Windows   \n",
       "4       ASUS     Intel         8     DDR4           512          SSD  Windows   \n",
       "\n",
       "       MRP  \n",
       "0  36990.0  \n",
       "1  39990.0  \n",
       "2  32990.0  \n",
       "3  49990.0  \n",
       "4  49990.0  "
      ]
     },
     "execution_count": 45,
     "metadata": {},
     "output_type": "execute_result"
    }
   ],
   "source": [
    "df_new.head()"
   ]
  },
  {
   "cell_type": "code",
   "execution_count": 46,
   "id": "d8f3bc45",
   "metadata": {},
   "outputs": [],
   "source": [
    "#Encoding the colums \n",
    "from sklearn.preprocessing import OrdinalEncoder"
   ]
  },
  {
   "cell_type": "code",
   "execution_count": 47,
   "id": "4c83276f",
   "metadata": {},
   "outputs": [],
   "source": [
    "enc = OrdinalEncoder()"
   ]
  },
  {
   "cell_type": "code",
   "execution_count": 48,
   "id": "f013de30",
   "metadata": {},
   "outputs": [
    {
     "name": "stderr",
     "output_type": "stream",
     "text": [
      "C:\\Users\\bhask\\AppData\\Local\\Temp\\ipykernel_44624\\3957059412.py:1: SettingWithCopyWarning: \n",
      "A value is trying to be set on a copy of a slice from a DataFrame.\n",
      "Try using .loc[row_indexer,col_indexer] = value instead\n",
      "\n",
      "See the caveats in the documentation: https://pandas.pydata.org/pandas-docs/stable/user_guide/indexing.html#returning-a-view-versus-a-copy\n",
      "  df_new[['Brand_name','Processor','RAM_Type','Storage_type','OS_Type']] = enc.fit_transform(df_new[['Brand_name','Processor','RAM_Type','Storage_type','OS_Type']])\n"
     ]
    }
   ],
   "source": [
    "df_new[['Brand_name','Processor','RAM_Type','Storage_type','OS_Type']] = enc.fit_transform(df_new[['Brand_name','Processor','RAM_Type','Storage_type','OS_Type']])"
   ]
  },
  {
   "cell_type": "code",
   "execution_count": 49,
   "id": "59748afe",
   "metadata": {},
   "outputs": [
    {
     "name": "stdout",
     "output_type": "stream",
     "text": [
      "<class 'pandas.core.frame.DataFrame'>\n",
      "Int64Index: 421 entries, 0 to 719\n",
      "Data columns (total 8 columns):\n",
      " #   Column        Non-Null Count  Dtype  \n",
      "---  ------        --------------  -----  \n",
      " 0   Brand_name    421 non-null    float64\n",
      " 1   Processor     421 non-null    float64\n",
      " 2   RAM_Size      421 non-null    int64  \n",
      " 3   RAM_Type      421 non-null    float64\n",
      " 4   Storage_size  421 non-null    int64  \n",
      " 5   Storage_type  421 non-null    float64\n",
      " 6   OS_Type       421 non-null    float64\n",
      " 7   MRP           421 non-null    float64\n",
      "dtypes: float64(6), int64(2)\n",
      "memory usage: 29.6 KB\n"
     ]
    }
   ],
   "source": [
    "df_new.info()"
   ]
  },
  {
   "cell_type": "code",
   "execution_count": 50,
   "id": "38b7311a",
   "metadata": {},
   "outputs": [
    {
     "data": {
      "text/html": [
       "<div>\n",
       "<style scoped>\n",
       "    .dataframe tbody tr th:only-of-type {\n",
       "        vertical-align: middle;\n",
       "    }\n",
       "\n",
       "    .dataframe tbody tr th {\n",
       "        vertical-align: top;\n",
       "    }\n",
       "\n",
       "    .dataframe thead th {\n",
       "        text-align: right;\n",
       "    }\n",
       "</style>\n",
       "<table border=\"1\" class=\"dataframe\">\n",
       "  <thead>\n",
       "    <tr style=\"text-align: right;\">\n",
       "      <th></th>\n",
       "      <th>Brand_name</th>\n",
       "      <th>Processor</th>\n",
       "      <th>RAM_Size</th>\n",
       "      <th>RAM_Type</th>\n",
       "      <th>Storage_size</th>\n",
       "      <th>Storage_type</th>\n",
       "      <th>OS_Type</th>\n",
       "      <th>MRP</th>\n",
       "    </tr>\n",
       "  </thead>\n",
       "  <tbody>\n",
       "    <tr>\n",
       "      <th>0</th>\n",
       "      <td>7.0</td>\n",
       "      <td>1.0</td>\n",
       "      <td>8</td>\n",
       "      <td>0.0</td>\n",
       "      <td>256</td>\n",
       "      <td>1.0</td>\n",
       "      <td>2.0</td>\n",
       "      <td>36990.0</td>\n",
       "    </tr>\n",
       "    <tr>\n",
       "      <th>1</th>\n",
       "      <td>7.0</td>\n",
       "      <td>1.0</td>\n",
       "      <td>8</td>\n",
       "      <td>0.0</td>\n",
       "      <td>512</td>\n",
       "      <td>1.0</td>\n",
       "      <td>2.0</td>\n",
       "      <td>39990.0</td>\n",
       "    </tr>\n",
       "    <tr>\n",
       "      <th>2</th>\n",
       "      <td>2.0</td>\n",
       "      <td>1.0</td>\n",
       "      <td>8</td>\n",
       "      <td>0.0</td>\n",
       "      <td>512</td>\n",
       "      <td>1.0</td>\n",
       "      <td>2.0</td>\n",
       "      <td>32990.0</td>\n",
       "    </tr>\n",
       "    <tr>\n",
       "      <th>3</th>\n",
       "      <td>5.0</td>\n",
       "      <td>0.0</td>\n",
       "      <td>8</td>\n",
       "      <td>0.0</td>\n",
       "      <td>512</td>\n",
       "      <td>1.0</td>\n",
       "      <td>2.0</td>\n",
       "      <td>49990.0</td>\n",
       "    </tr>\n",
       "    <tr>\n",
       "      <th>4</th>\n",
       "      <td>2.0</td>\n",
       "      <td>1.0</td>\n",
       "      <td>8</td>\n",
       "      <td>0.0</td>\n",
       "      <td>512</td>\n",
       "      <td>1.0</td>\n",
       "      <td>2.0</td>\n",
       "      <td>49990.0</td>\n",
       "    </tr>\n",
       "  </tbody>\n",
       "</table>\n",
       "</div>"
      ],
      "text/plain": [
       "   Brand_name  Processor  RAM_Size  RAM_Type  Storage_size  Storage_type  \\\n",
       "0         7.0        1.0         8       0.0           256           1.0   \n",
       "1         7.0        1.0         8       0.0           512           1.0   \n",
       "2         2.0        1.0         8       0.0           512           1.0   \n",
       "3         5.0        0.0         8       0.0           512           1.0   \n",
       "4         2.0        1.0         8       0.0           512           1.0   \n",
       "\n",
       "   OS_Type      MRP  \n",
       "0      2.0  36990.0  \n",
       "1      2.0  39990.0  \n",
       "2      2.0  32990.0  \n",
       "3      2.0  49990.0  \n",
       "4      2.0  49990.0  "
      ]
     },
     "execution_count": 50,
     "metadata": {},
     "output_type": "execute_result"
    }
   ],
   "source": [
    "df_new.head()"
   ]
  },
  {
   "cell_type": "code",
   "execution_count": 51,
   "id": "2e866d1a",
   "metadata": {},
   "outputs": [],
   "source": [
    "# SPlitting the data into train and test\n",
    "X = df_new.iloc[: , :-1]"
   ]
  },
  {
   "cell_type": "code",
   "execution_count": 52,
   "id": "c81d2f2e",
   "metadata": {},
   "outputs": [
    {
     "data": {
      "text/html": [
       "<div>\n",
       "<style scoped>\n",
       "    .dataframe tbody tr th:only-of-type {\n",
       "        vertical-align: middle;\n",
       "    }\n",
       "\n",
       "    .dataframe tbody tr th {\n",
       "        vertical-align: top;\n",
       "    }\n",
       "\n",
       "    .dataframe thead th {\n",
       "        text-align: right;\n",
       "    }\n",
       "</style>\n",
       "<table border=\"1\" class=\"dataframe\">\n",
       "  <thead>\n",
       "    <tr style=\"text-align: right;\">\n",
       "      <th></th>\n",
       "      <th>Brand_name</th>\n",
       "      <th>Processor</th>\n",
       "      <th>RAM_Size</th>\n",
       "      <th>RAM_Type</th>\n",
       "      <th>Storage_size</th>\n",
       "      <th>Storage_type</th>\n",
       "      <th>OS_Type</th>\n",
       "    </tr>\n",
       "  </thead>\n",
       "  <tbody>\n",
       "    <tr>\n",
       "      <th>0</th>\n",
       "      <td>7.0</td>\n",
       "      <td>1.0</td>\n",
       "      <td>8</td>\n",
       "      <td>0.0</td>\n",
       "      <td>256</td>\n",
       "      <td>1.0</td>\n",
       "      <td>2.0</td>\n",
       "    </tr>\n",
       "    <tr>\n",
       "      <th>1</th>\n",
       "      <td>7.0</td>\n",
       "      <td>1.0</td>\n",
       "      <td>8</td>\n",
       "      <td>0.0</td>\n",
       "      <td>512</td>\n",
       "      <td>1.0</td>\n",
       "      <td>2.0</td>\n",
       "    </tr>\n",
       "    <tr>\n",
       "      <th>2</th>\n",
       "      <td>2.0</td>\n",
       "      <td>1.0</td>\n",
       "      <td>8</td>\n",
       "      <td>0.0</td>\n",
       "      <td>512</td>\n",
       "      <td>1.0</td>\n",
       "      <td>2.0</td>\n",
       "    </tr>\n",
       "    <tr>\n",
       "      <th>3</th>\n",
       "      <td>5.0</td>\n",
       "      <td>0.0</td>\n",
       "      <td>8</td>\n",
       "      <td>0.0</td>\n",
       "      <td>512</td>\n",
       "      <td>1.0</td>\n",
       "      <td>2.0</td>\n",
       "    </tr>\n",
       "    <tr>\n",
       "      <th>4</th>\n",
       "      <td>2.0</td>\n",
       "      <td>1.0</td>\n",
       "      <td>8</td>\n",
       "      <td>0.0</td>\n",
       "      <td>512</td>\n",
       "      <td>1.0</td>\n",
       "      <td>2.0</td>\n",
       "    </tr>\n",
       "    <tr>\n",
       "      <th>...</th>\n",
       "      <td>...</td>\n",
       "      <td>...</td>\n",
       "      <td>...</td>\n",
       "      <td>...</td>\n",
       "      <td>...</td>\n",
       "      <td>...</td>\n",
       "      <td>...</td>\n",
       "    </tr>\n",
       "    <tr>\n",
       "      <th>713</th>\n",
       "      <td>3.0</td>\n",
       "      <td>1.0</td>\n",
       "      <td>16</td>\n",
       "      <td>1.0</td>\n",
       "      <td>512</td>\n",
       "      <td>1.0</td>\n",
       "      <td>2.0</td>\n",
       "    </tr>\n",
       "    <tr>\n",
       "      <th>714</th>\n",
       "      <td>5.0</td>\n",
       "      <td>0.0</td>\n",
       "      <td>16</td>\n",
       "      <td>0.0</td>\n",
       "      <td>512</td>\n",
       "      <td>1.0</td>\n",
       "      <td>2.0</td>\n",
       "    </tr>\n",
       "    <tr>\n",
       "      <th>715</th>\n",
       "      <td>2.0</td>\n",
       "      <td>1.0</td>\n",
       "      <td>4</td>\n",
       "      <td>3.0</td>\n",
       "      <td>1</td>\n",
       "      <td>1.0</td>\n",
       "      <td>1.0</td>\n",
       "    </tr>\n",
       "    <tr>\n",
       "      <th>718</th>\n",
       "      <td>2.0</td>\n",
       "      <td>1.0</td>\n",
       "      <td>16</td>\n",
       "      <td>5.0</td>\n",
       "      <td>512</td>\n",
       "      <td>1.0</td>\n",
       "      <td>2.0</td>\n",
       "    </tr>\n",
       "    <tr>\n",
       "      <th>719</th>\n",
       "      <td>7.0</td>\n",
       "      <td>1.0</td>\n",
       "      <td>8</td>\n",
       "      <td>0.0</td>\n",
       "      <td>256</td>\n",
       "      <td>0.0</td>\n",
       "      <td>2.0</td>\n",
       "    </tr>\n",
       "  </tbody>\n",
       "</table>\n",
       "<p>421 rows × 7 columns</p>\n",
       "</div>"
      ],
      "text/plain": [
       "     Brand_name  Processor  RAM_Size  RAM_Type  Storage_size  Storage_type  \\\n",
       "0           7.0        1.0         8       0.0           256           1.0   \n",
       "1           7.0        1.0         8       0.0           512           1.0   \n",
       "2           2.0        1.0         8       0.0           512           1.0   \n",
       "3           5.0        0.0         8       0.0           512           1.0   \n",
       "4           2.0        1.0         8       0.0           512           1.0   \n",
       "..          ...        ...       ...       ...           ...           ...   \n",
       "713         3.0        1.0        16       1.0           512           1.0   \n",
       "714         5.0        0.0        16       0.0           512           1.0   \n",
       "715         2.0        1.0         4       3.0             1           1.0   \n",
       "718         2.0        1.0        16       5.0           512           1.0   \n",
       "719         7.0        1.0         8       0.0           256           0.0   \n",
       "\n",
       "     OS_Type  \n",
       "0        2.0  \n",
       "1        2.0  \n",
       "2        2.0  \n",
       "3        2.0  \n",
       "4        2.0  \n",
       "..       ...  \n",
       "713      2.0  \n",
       "714      2.0  \n",
       "715      1.0  \n",
       "718      2.0  \n",
       "719      2.0  \n",
       "\n",
       "[421 rows x 7 columns]"
      ]
     },
     "execution_count": 52,
     "metadata": {},
     "output_type": "execute_result"
    }
   ],
   "source": [
    "X"
   ]
  },
  {
   "cell_type": "code",
   "execution_count": 53,
   "id": "724aa2e8",
   "metadata": {},
   "outputs": [],
   "source": [
    "Y = df_new.iloc[ : ,-1]"
   ]
  },
  {
   "cell_type": "code",
   "execution_count": 54,
   "id": "df6fa2b6",
   "metadata": {},
   "outputs": [
    {
     "data": {
      "text/plain": [
       "0       36990.0\n",
       "1       39990.0\n",
       "2       32990.0\n",
       "3       49990.0\n",
       "4       49990.0\n",
       "         ...   \n",
       "713     76590.0\n",
       "714     90000.0\n",
       "715     23490.0\n",
       "718    125990.0\n",
       "719     50990.0\n",
       "Name: MRP, Length: 421, dtype: float64"
      ]
     },
     "execution_count": 54,
     "metadata": {},
     "output_type": "execute_result"
    }
   ],
   "source": [
    "Y"
   ]
  },
  {
   "cell_type": "code",
   "execution_count": 55,
   "id": "4fc20855",
   "metadata": {},
   "outputs": [],
   "source": [
    "from sklearn.model_selection import train_test_split\n",
    "x_train , x_test , y_train , y_test = train_test_split( X, Y, test_size = 0.25, random_state=100 )"
   ]
  },
  {
   "cell_type": "code",
   "execution_count": 56,
   "id": "8093ff3e",
   "metadata": {},
   "outputs": [
    {
     "name": "stdout",
     "output_type": "stream",
     "text": [
      "shape of x_train (315, 7)\n",
      "shape of x_test (106, 7)\n",
      "shape of y_train (315,)\n",
      "shape of y_test (106,)\n"
     ]
    }
   ],
   "source": [
    "print(\"shape of x_train\" ,x_train.shape)\n",
    "print(\"shape of x_test\" ,x_test.shape)\n",
    "print(\"shape of y_train\",y_train.shape)\n",
    "print(\"shape of y_test\",y_test.shape)"
   ]
  },
  {
   "cell_type": "markdown",
   "id": "e3e079f7",
   "metadata": {},
   "source": [
    "### Linear_Regression"
   ]
  },
  {
   "cell_type": "code",
   "execution_count": 57,
   "id": "645231e4",
   "metadata": {},
   "outputs": [],
   "source": [
    "from sklearn.linear_model import LinearRegression\n",
    "Lin_reg = LinearRegression()"
   ]
  },
  {
   "cell_type": "code",
   "execution_count": 58,
   "id": "96f67668",
   "metadata": {},
   "outputs": [],
   "source": [
    "Lin_reg = Lin_reg.fit(x_train, y_train)"
   ]
  },
  {
   "cell_type": "code",
   "execution_count": 59,
   "id": "8fdc1eb2",
   "metadata": {},
   "outputs": [],
   "source": [
    "y_pred = Lin_reg.predict(x_test)"
   ]
  },
  {
   "cell_type": "code",
   "execution_count": 60,
   "id": "b4ba673f",
   "metadata": {},
   "outputs": [],
   "source": [
    "from sklearn.metrics import  r2_score,  mean_squared_error as mse\n",
    "MSE = mse (y_test, y_pred)\n",
    "RMSE = np.sqrt(MSE)\n",
    "R2 = r2_score(y_test, y_pred)"
   ]
  },
  {
   "cell_type": "code",
   "execution_count": 61,
   "id": "3fe90faa",
   "metadata": {},
   "outputs": [],
   "source": [
    "evaluation = pd.DataFrame({\"Model\" : ['Linear Regression'], \"MSE\" : [MSE], 'RMSE':[RMSE] , 'R2_Score': [R2]} )"
   ]
  },
  {
   "cell_type": "code",
   "execution_count": 62,
   "id": "7dcb2fe9",
   "metadata": {},
   "outputs": [
    {
     "data": {
      "text/html": [
       "<div>\n",
       "<style scoped>\n",
       "    .dataframe tbody tr th:only-of-type {\n",
       "        vertical-align: middle;\n",
       "    }\n",
       "\n",
       "    .dataframe tbody tr th {\n",
       "        vertical-align: top;\n",
       "    }\n",
       "\n",
       "    .dataframe thead th {\n",
       "        text-align: right;\n",
       "    }\n",
       "</style>\n",
       "<table border=\"1\" class=\"dataframe\">\n",
       "  <thead>\n",
       "    <tr style=\"text-align: right;\">\n",
       "      <th></th>\n",
       "      <th>Model</th>\n",
       "      <th>MSE</th>\n",
       "      <th>RMSE</th>\n",
       "      <th>R2_Score</th>\n",
       "    </tr>\n",
       "  </thead>\n",
       "  <tbody>\n",
       "    <tr>\n",
       "      <th>0</th>\n",
       "      <td>Linear Regression</td>\n",
       "      <td>1.252622e+09</td>\n",
       "      <td>35392.401097</td>\n",
       "      <td>0.386709</td>\n",
       "    </tr>\n",
       "  </tbody>\n",
       "</table>\n",
       "</div>"
      ],
      "text/plain": [
       "               Model           MSE          RMSE  R2_Score\n",
       "0  Linear Regression  1.252622e+09  35392.401097  0.386709"
      ]
     },
     "execution_count": 62,
     "metadata": {},
     "output_type": "execute_result"
    }
   ],
   "source": [
    "evaluation"
   ]
  },
  {
   "cell_type": "markdown",
   "id": "60d9e5ce",
   "metadata": {},
   "source": [
    "### K_Nearest "
   ]
  },
  {
   "cell_type": "code",
   "execution_count": 63,
   "id": "b111795b",
   "metadata": {},
   "outputs": [],
   "source": [
    "from sklearn.neighbors import KNeighborsRegressor\n",
    "knn = KNeighborsRegressor( n_neighbors=3 )\n",
    "knn = knn.fit( x_train,y_train )\n"
   ]
  },
  {
   "cell_type": "code",
   "execution_count": 64,
   "id": "6d5d2814",
   "metadata": {},
   "outputs": [],
   "source": [
    "y_pred = knn.predict(x_test)"
   ]
  },
  {
   "cell_type": "code",
   "execution_count": 65,
   "id": "4dc9fd62",
   "metadata": {},
   "outputs": [],
   "source": [
    "MSE = mse (y_test, y_pred)\n",
    "RMSE = np.sqrt(MSE)\n",
    "R2 = r2_score(y_test, y_pred)\n",
    "evaluation_knn = pd.DataFrame({\"Model\" : ['KNN'], \"MSE\" : [MSE], 'RMSE':[RMSE] , 'R2_Score': [R2]} )\n",
    "evaluation = pd.concat([evaluation, evaluation_knn])"
   ]
  },
  {
   "cell_type": "code",
   "execution_count": 66,
   "id": "cef4ad19",
   "metadata": {},
   "outputs": [
    {
     "data": {
      "text/html": [
       "<div>\n",
       "<style scoped>\n",
       "    .dataframe tbody tr th:only-of-type {\n",
       "        vertical-align: middle;\n",
       "    }\n",
       "\n",
       "    .dataframe tbody tr th {\n",
       "        vertical-align: top;\n",
       "    }\n",
       "\n",
       "    .dataframe thead th {\n",
       "        text-align: right;\n",
       "    }\n",
       "</style>\n",
       "<table border=\"1\" class=\"dataframe\">\n",
       "  <thead>\n",
       "    <tr style=\"text-align: right;\">\n",
       "      <th></th>\n",
       "      <th>Model</th>\n",
       "      <th>MSE</th>\n",
       "      <th>RMSE</th>\n",
       "      <th>R2_Score</th>\n",
       "    </tr>\n",
       "  </thead>\n",
       "  <tbody>\n",
       "    <tr>\n",
       "      <th>0</th>\n",
       "      <td>Linear Regression</td>\n",
       "      <td>1.252622e+09</td>\n",
       "      <td>35392.401097</td>\n",
       "      <td>0.386709</td>\n",
       "    </tr>\n",
       "    <tr>\n",
       "      <th>0</th>\n",
       "      <td>KNN</td>\n",
       "      <td>5.436663e+08</td>\n",
       "      <td>23316.652554</td>\n",
       "      <td>0.733818</td>\n",
       "    </tr>\n",
       "  </tbody>\n",
       "</table>\n",
       "</div>"
      ],
      "text/plain": [
       "               Model           MSE          RMSE  R2_Score\n",
       "0  Linear Regression  1.252622e+09  35392.401097  0.386709\n",
       "0                KNN  5.436663e+08  23316.652554  0.733818"
      ]
     },
     "execution_count": 66,
     "metadata": {},
     "output_type": "execute_result"
    }
   ],
   "source": [
    "evaluation"
   ]
  },
  {
   "cell_type": "markdown",
   "id": "ae78dc92",
   "metadata": {},
   "source": [
    "### RRandom_Forest"
   ]
  },
  {
   "cell_type": "code",
   "execution_count": 67,
   "id": "5a2ce2c9",
   "metadata": {},
   "outputs": [],
   "source": [
    "from sklearn.ensemble import RandomForestRegressor"
   ]
  },
  {
   "cell_type": "code",
   "execution_count": 68,
   "id": "c0397b1d",
   "metadata": {},
   "outputs": [],
   "source": [
    "rf=RandomForestRegressor(n_estimators = 10, max_depth = 12, random_state = 3)\n",
    "rf.fit(x_train,y_train)\n",
    "y_pred=rf.predict(x_test)"
   ]
  },
  {
   "cell_type": "code",
   "execution_count": 69,
   "id": "c26c2d02",
   "metadata": {},
   "outputs": [],
   "source": [
    "MSE = mse (y_test, y_pred)\n",
    "RMSE = np.sqrt(MSE)\n",
    "R2 = r2_score(y_test, y_pred)\n",
    "evaluation_ran = pd.DataFrame({\"Model\" : ['Random_Forest'], \"MSE\" : [MSE], 'RMSE':[RMSE] , 'R2_Score': [R2]} )\n",
    "evaluation = pd.concat([evaluation, evaluation_ran])"
   ]
  },
  {
   "cell_type": "code",
   "execution_count": 70,
   "id": "eb56258e",
   "metadata": {},
   "outputs": [
    {
     "data": {
      "text/html": [
       "<div>\n",
       "<style scoped>\n",
       "    .dataframe tbody tr th:only-of-type {\n",
       "        vertical-align: middle;\n",
       "    }\n",
       "\n",
       "    .dataframe tbody tr th {\n",
       "        vertical-align: top;\n",
       "    }\n",
       "\n",
       "    .dataframe thead th {\n",
       "        text-align: right;\n",
       "    }\n",
       "</style>\n",
       "<table border=\"1\" class=\"dataframe\">\n",
       "  <thead>\n",
       "    <tr style=\"text-align: right;\">\n",
       "      <th></th>\n",
       "      <th>Model</th>\n",
       "      <th>MSE</th>\n",
       "      <th>RMSE</th>\n",
       "      <th>R2_Score</th>\n",
       "    </tr>\n",
       "  </thead>\n",
       "  <tbody>\n",
       "    <tr>\n",
       "      <th>0</th>\n",
       "      <td>Linear Regression</td>\n",
       "      <td>1.252622e+09</td>\n",
       "      <td>35392.401097</td>\n",
       "      <td>0.386709</td>\n",
       "    </tr>\n",
       "    <tr>\n",
       "      <th>0</th>\n",
       "      <td>KNN</td>\n",
       "      <td>5.436663e+08</td>\n",
       "      <td>23316.652554</td>\n",
       "      <td>0.733818</td>\n",
       "    </tr>\n",
       "    <tr>\n",
       "      <th>0</th>\n",
       "      <td>Random_Forest</td>\n",
       "      <td>4.390364e+08</td>\n",
       "      <td>20953.195137</td>\n",
       "      <td>0.785045</td>\n",
       "    </tr>\n",
       "  </tbody>\n",
       "</table>\n",
       "</div>"
      ],
      "text/plain": [
       "               Model           MSE          RMSE  R2_Score\n",
       "0  Linear Regression  1.252622e+09  35392.401097  0.386709\n",
       "0                KNN  5.436663e+08  23316.652554  0.733818\n",
       "0      Random_Forest  4.390364e+08  20953.195137  0.785045"
      ]
     },
     "execution_count": 70,
     "metadata": {},
     "output_type": "execute_result"
    }
   ],
   "source": [
    "evaluation"
   ]
  },
  {
   "cell_type": "markdown",
   "id": "2e6a1bd4",
   "metadata": {},
   "source": [
    "### Decision_Tree"
   ]
  },
  {
   "cell_type": "code",
   "execution_count": 71,
   "id": "87a3437d",
   "metadata": {},
   "outputs": [],
   "source": [
    "from sklearn.tree import DecisionTreeRegressor"
   ]
  },
  {
   "cell_type": "code",
   "execution_count": 72,
   "id": "878cf09b",
   "metadata": {},
   "outputs": [],
   "source": [
    "dt=DecisionTreeRegressor()\n",
    "dt.fit(x_train,y_train)\n",
    "y_pred=dt.predict(x_test)"
   ]
  },
  {
   "cell_type": "code",
   "execution_count": 73,
   "id": "aa88c143",
   "metadata": {},
   "outputs": [],
   "source": [
    "MSE = mse (y_test, y_pred)\n",
    "RMSE = np.sqrt(MSE)\n",
    "R2 = r2_score(y_test, y_pred)\n",
    "evaluation_dec = pd.DataFrame({\"Model\" : ['Decision_Tree'], \"MSE\" : [MSE], 'RMSE':[RMSE] , 'R2_Score': [R2]} )\n",
    "evaluation = pd.concat([evaluation, evaluation_dec])"
   ]
  },
  {
   "cell_type": "code",
   "execution_count": 74,
   "id": "643d6175",
   "metadata": {},
   "outputs": [
    {
     "data": {
      "text/html": [
       "<div>\n",
       "<style scoped>\n",
       "    .dataframe tbody tr th:only-of-type {\n",
       "        vertical-align: middle;\n",
       "    }\n",
       "\n",
       "    .dataframe tbody tr th {\n",
       "        vertical-align: top;\n",
       "    }\n",
       "\n",
       "    .dataframe thead th {\n",
       "        text-align: right;\n",
       "    }\n",
       "</style>\n",
       "<table border=\"1\" class=\"dataframe\">\n",
       "  <thead>\n",
       "    <tr style=\"text-align: right;\">\n",
       "      <th></th>\n",
       "      <th>Model</th>\n",
       "      <th>MSE</th>\n",
       "      <th>RMSE</th>\n",
       "      <th>R2_Score</th>\n",
       "    </tr>\n",
       "  </thead>\n",
       "  <tbody>\n",
       "    <tr>\n",
       "      <th>0</th>\n",
       "      <td>Linear Regression</td>\n",
       "      <td>1.252622e+09</td>\n",
       "      <td>35392.401097</td>\n",
       "      <td>0.386709</td>\n",
       "    </tr>\n",
       "    <tr>\n",
       "      <th>0</th>\n",
       "      <td>KNN</td>\n",
       "      <td>5.436663e+08</td>\n",
       "      <td>23316.652554</td>\n",
       "      <td>0.733818</td>\n",
       "    </tr>\n",
       "    <tr>\n",
       "      <th>0</th>\n",
       "      <td>Random_Forest</td>\n",
       "      <td>4.390364e+08</td>\n",
       "      <td>20953.195137</td>\n",
       "      <td>0.785045</td>\n",
       "    </tr>\n",
       "    <tr>\n",
       "      <th>0</th>\n",
       "      <td>Decision_Tree</td>\n",
       "      <td>5.984249e+08</td>\n",
       "      <td>24462.725525</td>\n",
       "      <td>0.707007</td>\n",
       "    </tr>\n",
       "  </tbody>\n",
       "</table>\n",
       "</div>"
      ],
      "text/plain": [
       "               Model           MSE          RMSE  R2_Score\n",
       "0  Linear Regression  1.252622e+09  35392.401097  0.386709\n",
       "0                KNN  5.436663e+08  23316.652554  0.733818\n",
       "0      Random_Forest  4.390364e+08  20953.195137  0.785045\n",
       "0      Decision_Tree  5.984249e+08  24462.725525  0.707007"
      ]
     },
     "execution_count": 74,
     "metadata": {},
     "output_type": "execute_result"
    }
   ],
   "source": [
    "evaluation"
   ]
  },
  {
   "cell_type": "markdown",
   "id": "f1ce5d5c",
   "metadata": {},
   "source": [
    "### ADA_Boost"
   ]
  },
  {
   "cell_type": "code",
   "execution_count": 75,
   "id": "fcf2de50",
   "metadata": {},
   "outputs": [],
   "source": [
    "from sklearn.ensemble import AdaBoostRegressor"
   ]
  },
  {
   "cell_type": "code",
   "execution_count": 76,
   "id": "77cb7fdb",
   "metadata": {},
   "outputs": [],
   "source": [
    "ada_boost=AdaBoostRegressor(n_estimators=100,learning_rate=0.001,random_state=0)\n",
    "ada_boost.fit(x_train,y_train)\n",
    "y_pred=ada_boost.predict(x_test)"
   ]
  },
  {
   "cell_type": "code",
   "execution_count": 77,
   "id": "edbcf5bf",
   "metadata": {},
   "outputs": [],
   "source": [
    "MSE = mse (y_test, y_pred)\n",
    "RMSE = np.sqrt(MSE)\n",
    "R2 = r2_score(y_test, y_pred)\n",
    "evaluation_ada = pd.DataFrame({\"Model\" : ['ADA_Boost'], \"MSE\" : [MSE], 'RMSE':[RMSE] , 'R2_Score': [R2]} )\n",
    "evaluation = pd.concat([evaluation, evaluation_ada])"
   ]
  },
  {
   "cell_type": "code",
   "execution_count": 78,
   "id": "99358d61",
   "metadata": {},
   "outputs": [
    {
     "data": {
      "text/html": [
       "<div>\n",
       "<style scoped>\n",
       "    .dataframe tbody tr th:only-of-type {\n",
       "        vertical-align: middle;\n",
       "    }\n",
       "\n",
       "    .dataframe tbody tr th {\n",
       "        vertical-align: top;\n",
       "    }\n",
       "\n",
       "    .dataframe thead th {\n",
       "        text-align: right;\n",
       "    }\n",
       "</style>\n",
       "<table border=\"1\" class=\"dataframe\">\n",
       "  <thead>\n",
       "    <tr style=\"text-align: right;\">\n",
       "      <th></th>\n",
       "      <th>Model</th>\n",
       "      <th>MSE</th>\n",
       "      <th>RMSE</th>\n",
       "      <th>R2_Score</th>\n",
       "    </tr>\n",
       "  </thead>\n",
       "  <tbody>\n",
       "    <tr>\n",
       "      <th>0</th>\n",
       "      <td>Linear Regression</td>\n",
       "      <td>1.252622e+09</td>\n",
       "      <td>35392.401097</td>\n",
       "      <td>0.386709</td>\n",
       "    </tr>\n",
       "    <tr>\n",
       "      <th>0</th>\n",
       "      <td>KNN</td>\n",
       "      <td>5.436663e+08</td>\n",
       "      <td>23316.652554</td>\n",
       "      <td>0.733818</td>\n",
       "    </tr>\n",
       "    <tr>\n",
       "      <th>0</th>\n",
       "      <td>Random_Forest</td>\n",
       "      <td>4.390364e+08</td>\n",
       "      <td>20953.195137</td>\n",
       "      <td>0.785045</td>\n",
       "    </tr>\n",
       "    <tr>\n",
       "      <th>0</th>\n",
       "      <td>Decision_Tree</td>\n",
       "      <td>5.984249e+08</td>\n",
       "      <td>24462.725525</td>\n",
       "      <td>0.707007</td>\n",
       "    </tr>\n",
       "    <tr>\n",
       "      <th>0</th>\n",
       "      <td>ADA_Boost</td>\n",
       "      <td>5.365907e+08</td>\n",
       "      <td>23164.426439</td>\n",
       "      <td>0.737282</td>\n",
       "    </tr>\n",
       "  </tbody>\n",
       "</table>\n",
       "</div>"
      ],
      "text/plain": [
       "               Model           MSE          RMSE  R2_Score\n",
       "0  Linear Regression  1.252622e+09  35392.401097  0.386709\n",
       "0                KNN  5.436663e+08  23316.652554  0.733818\n",
       "0      Random_Forest  4.390364e+08  20953.195137  0.785045\n",
       "0      Decision_Tree  5.984249e+08  24462.725525  0.707007\n",
       "0          ADA_Boost  5.365907e+08  23164.426439  0.737282"
      ]
     },
     "execution_count": 78,
     "metadata": {},
     "output_type": "execute_result"
    }
   ],
   "source": [
    "evaluation"
   ]
  },
  {
   "cell_type": "markdown",
   "id": "f2b15675",
   "metadata": {},
   "source": [
    "### XG_Boost\n"
   ]
  },
  {
   "cell_type": "code",
   "execution_count": 79,
   "id": "aca7de88",
   "metadata": {},
   "outputs": [],
   "source": [
    "from xgboost import XGBRegressor"
   ]
  },
  {
   "cell_type": "code",
   "execution_count": 80,
   "id": "92023528",
   "metadata": {},
   "outputs": [],
   "source": [
    "xgb=XGBRegressor(learning_rate=0.15, n_estimators=50, max_leaves=0, random_state=98) \n",
    "xgb.fit(x_train,y_train)\n",
    "y_pred=xgb.predict(x_test)"
   ]
  },
  {
   "cell_type": "code",
   "execution_count": 81,
   "id": "25c8dc82",
   "metadata": {},
   "outputs": [],
   "source": [
    "MSE = mse (y_test, y_pred)\n",
    "RMSE = np.sqrt(MSE)\n",
    "R2 = r2_score(y_test, y_pred)\n",
    "evaluation_xg = pd.DataFrame({\"Model\" : ['XG_Boost'], \"MSE\" : [MSE], 'RMSE':[RMSE] , 'R2_Score': [R2]} )\n",
    "evaluation = pd.concat([evaluation, evaluation_xg])"
   ]
  },
  {
   "cell_type": "code",
   "execution_count": 82,
   "id": "ef9555c0",
   "metadata": {},
   "outputs": [
    {
     "data": {
      "text/html": [
       "<div>\n",
       "<style scoped>\n",
       "    .dataframe tbody tr th:only-of-type {\n",
       "        vertical-align: middle;\n",
       "    }\n",
       "\n",
       "    .dataframe tbody tr th {\n",
       "        vertical-align: top;\n",
       "    }\n",
       "\n",
       "    .dataframe thead th {\n",
       "        text-align: right;\n",
       "    }\n",
       "</style>\n",
       "<table border=\"1\" class=\"dataframe\">\n",
       "  <thead>\n",
       "    <tr style=\"text-align: right;\">\n",
       "      <th></th>\n",
       "      <th>Model</th>\n",
       "      <th>MSE</th>\n",
       "      <th>RMSE</th>\n",
       "      <th>R2_Score</th>\n",
       "    </tr>\n",
       "  </thead>\n",
       "  <tbody>\n",
       "    <tr>\n",
       "      <th>0</th>\n",
       "      <td>Linear Regression</td>\n",
       "      <td>1.252622e+09</td>\n",
       "      <td>35392.401097</td>\n",
       "      <td>0.386709</td>\n",
       "    </tr>\n",
       "    <tr>\n",
       "      <th>0</th>\n",
       "      <td>KNN</td>\n",
       "      <td>5.436663e+08</td>\n",
       "      <td>23316.652554</td>\n",
       "      <td>0.733818</td>\n",
       "    </tr>\n",
       "    <tr>\n",
       "      <th>0</th>\n",
       "      <td>Random_Forest</td>\n",
       "      <td>4.390364e+08</td>\n",
       "      <td>20953.195137</td>\n",
       "      <td>0.785045</td>\n",
       "    </tr>\n",
       "    <tr>\n",
       "      <th>0</th>\n",
       "      <td>Decision_Tree</td>\n",
       "      <td>5.984249e+08</td>\n",
       "      <td>24462.725525</td>\n",
       "      <td>0.707007</td>\n",
       "    </tr>\n",
       "    <tr>\n",
       "      <th>0</th>\n",
       "      <td>ADA_Boost</td>\n",
       "      <td>5.365907e+08</td>\n",
       "      <td>23164.426439</td>\n",
       "      <td>0.737282</td>\n",
       "    </tr>\n",
       "    <tr>\n",
       "      <th>0</th>\n",
       "      <td>XG_Boost</td>\n",
       "      <td>3.566053e+08</td>\n",
       "      <td>18883.995481</td>\n",
       "      <td>0.825404</td>\n",
       "    </tr>\n",
       "  </tbody>\n",
       "</table>\n",
       "</div>"
      ],
      "text/plain": [
       "               Model           MSE          RMSE  R2_Score\n",
       "0  Linear Regression  1.252622e+09  35392.401097  0.386709\n",
       "0                KNN  5.436663e+08  23316.652554  0.733818\n",
       "0      Random_Forest  4.390364e+08  20953.195137  0.785045\n",
       "0      Decision_Tree  5.984249e+08  24462.725525  0.707007\n",
       "0          ADA_Boost  5.365907e+08  23164.426439  0.737282\n",
       "0           XG_Boost  3.566053e+08  18883.995481  0.825404"
      ]
     },
     "execution_count": 82,
     "metadata": {},
     "output_type": "execute_result"
    }
   ],
   "source": [
    "evaluation"
   ]
  },
  {
   "cell_type": "markdown",
   "id": "80978c2f",
   "metadata": {},
   "source": [
    "### As  we can from above , XG_Boost has highest R2 score and lowest RMSE . SO , we select this model"
   ]
  },
  {
   "cell_type": "markdown",
   "id": "de29a8a2",
   "metadata": {},
   "source": [
    "#### Lets see if applying cross validation improves permorfance"
   ]
  },
  {
   "cell_type": "code",
   "execution_count": 83,
   "id": "a15cb7fb",
   "metadata": {},
   "outputs": [],
   "source": [
    "from sklearn.model_selection import cross_val_score, KFold, ShuffleSplit"
   ]
  },
  {
   "cell_type": "code",
   "execution_count": 84,
   "id": "c0596806",
   "metadata": {},
   "outputs": [],
   "source": [
    "xgb=XGBRegressor(learning_rate=0.15, n_estimators=50, max_leaves=0, random_state=98)\n",
    "\n",
    "k=ShuffleSplit(n_splits=20, test_size=0.2, random_state=10)\n",
    "score=cross_val_score(xgb, X,Y, cv=k)"
   ]
  },
  {
   "cell_type": "code",
   "execution_count": 85,
   "id": "e8c90bea",
   "metadata": {},
   "outputs": [
    {
     "name": "stdout",
     "output_type": "stream",
     "text": [
      "Cross validations Score:\n",
      " [0.80722289 0.68707252 0.80706274 0.69160678 0.79020249 0.8240916\n",
      " 0.66864715 0.84030239 0.83657762 0.84668153 0.78769302 0.68331002\n",
      " 0.66977541 0.68328111 0.81131788 0.87775017 0.66273121 0.86496929\n",
      " 0.71171316 0.82930513]\n",
      "----------------------------------------------\n",
      "Cross validations Score Maximum : 0.8777501712852432\n",
      "Cross validations Score Minimum: 0.6627312087627302\n",
      "Cross validations Score Average: 0.7690657054790686\n"
     ]
    }
   ],
   "source": [
    "print(\"Cross validations Score:\\n\", score)\n",
    "print(\"----------------------------------------------\")\n",
    "print(\"Cross validations Score Maximum :\", score.max())\n",
    "print(\"Cross validations Score Minimum:\", score.min())\n",
    "print(\"Cross validations Score Average:\", score.mean())"
   ]
  },
  {
   "cell_type": "markdown",
   "id": "28643245",
   "metadata": {},
   "source": [
    "#### But as we can see Cross validation did not improve model performance"
   ]
  },
  {
   "cell_type": "markdown",
   "id": "f53e883c",
   "metadata": {},
   "source": [
    "#### Save the Model \n"
   ]
  },
  {
   "cell_type": "code",
   "execution_count": 86,
   "id": "b186ff8c",
   "metadata": {},
   "outputs": [],
   "source": [
    "import pickle\n",
    "pickle_out = open(\"xgb.pkl\",\"wb\")\n",
    "pickle.dump(xgb, pickle_out)\n",
    "pickle_out.close()"
   ]
  }
 ],
 "metadata": {
  "kernelspec": {
   "display_name": "Python 3 (ipykernel)",
   "language": "python",
   "name": "python3"
  },
  "language_info": {
   "codemirror_mode": {
    "name": "ipython",
    "version": 3
   },
   "file_extension": ".py",
   "mimetype": "text/x-python",
   "name": "python",
   "nbconvert_exporter": "python",
   "pygments_lexer": "ipython3",
   "version": "3.9.12"
  }
 },
 "nbformat": 4,
 "nbformat_minor": 5
}
